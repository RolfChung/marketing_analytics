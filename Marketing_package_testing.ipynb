{
 "cells": [
  {
   "cell_type": "markdown",
   "id": "1239450b-5850-4ae6-b208-b781a1b0b0bd",
   "metadata": {},
   "source": [
    "<h1>Summary</h1>"
   ]
  },
  {
   "cell_type": "markdown",
   "id": "45eb0ae7-8a54-48e4-b538-5edff074580b",
   "metadata": {},
   "source": [
    "<h3>Import package and funcs</h3>"
   ]
  },
  {
   "cell_type": "code",
   "execution_count": 48,
   "id": "990ef328-06e0-4aa8-a777-379c51f29b89",
   "metadata": {},
   "outputs": [],
   "source": [
    "import package\n",
    "import package.funcs\n",
    "from package import funcs"
   ]
  },
  {
   "cell_type": "code",
   "execution_count": 49,
   "id": "8645abe5-5204-4f14-8538-717d42b6de44",
   "metadata": {},
   "outputs": [
    {
     "name": "stdout",
     "output_type": "stream",
     "text": [
      "Hello\n"
     ]
    }
   ],
   "source": [
    "funcs.test()"
   ]
  },
  {
   "cell_type": "code",
   "execution_count": 50,
   "id": "20edffeb-1917-4016-a9a3-89d8dcd8d7c1",
   "metadata": {},
   "outputs": [
    {
     "data": {
      "text/plain": [
       "3"
      ]
     },
     "execution_count": 50,
     "metadata": {},
     "output_type": "execute_result"
    }
   ],
   "source": [
    "package.funcs.add(1,2)"
   ]
  },
  {
   "cell_type": "code",
   "execution_count": 51,
   "id": "7a5f38fe-77c8-4adf-89bf-8ea0b9d090ce",
   "metadata": {},
   "outputs": [
    {
     "data": {
      "text/plain": [
       "4"
      ]
     },
     "execution_count": 51,
     "metadata": {},
     "output_type": "execute_result"
    }
   ],
   "source": [
    "funcs.add(1,3)"
   ]
  },
  {
   "cell_type": "markdown",
   "id": "fe8db36a-7298-4ce0-8823-caa2c9615b9a",
   "metadata": {},
   "source": [
    "<h3>import_packages</h3>"
   ]
  },
  {
   "cell_type": "code",
   "execution_count": 52,
   "id": "46e0cab2-ce21-4a72-b257-4ca434a58de4",
   "metadata": {},
   "outputs": [],
   "source": [
    "from package import import_packages"
   ]
  },
  {
   "cell_type": "code",
   "execution_count": 53,
   "id": "16d618f0-759d-43f6-adfc-c32436021fb4",
   "metadata": {},
   "outputs": [
    {
     "data": {
      "text/plain": [
       "<module 'pandas' from 'C:\\\\Users\\\\gamarandor\\\\miniconda3\\\\envs\\\\data_analytics\\\\lib\\\\site-packages\\\\pandas\\\\__init__.py'>"
      ]
     },
     "execution_count": 53,
     "metadata": {},
     "output_type": "execute_result"
    }
   ],
   "source": [
    "import_packages.import_packages()"
   ]
  },
  {
   "cell_type": "code",
   "execution_count": 54,
   "id": "0b44b078-5ffb-452c-8c8f-32189848b225",
   "metadata": {},
   "outputs": [
    {
     "data": {
      "text/html": [
       "<div>\n",
       "<style scoped>\n",
       "    .dataframe tbody tr th:only-of-type {\n",
       "        vertical-align: middle;\n",
       "    }\n",
       "\n",
       "    .dataframe tbody tr th {\n",
       "        vertical-align: top;\n",
       "    }\n",
       "\n",
       "    .dataframe thead th {\n",
       "        text-align: right;\n",
       "    }\n",
       "</style>\n",
       "<table border=\"1\" class=\"dataframe\">\n",
       "  <thead>\n",
       "    <tr style=\"text-align: right;\">\n",
       "      <th></th>\n",
       "      <th>A</th>\n",
       "    </tr>\n",
       "  </thead>\n",
       "  <tbody>\n",
       "    <tr>\n",
       "      <th>0</th>\n",
       "      <td>1</td>\n",
       "    </tr>\n",
       "    <tr>\n",
       "      <th>1</th>\n",
       "      <td>2</td>\n",
       "    </tr>\n",
       "    <tr>\n",
       "      <th>2</th>\n",
       "      <td>3</td>\n",
       "    </tr>\n",
       "    <tr>\n",
       "      <th>3</th>\n",
       "      <td>4</td>\n",
       "    </tr>\n",
       "    <tr>\n",
       "      <th>4</th>\n",
       "      <td>5</td>\n",
       "    </tr>\n",
       "  </tbody>\n",
       "</table>\n",
       "</div>"
      ],
      "text/plain": [
       "   A\n",
       "0  1\n",
       "1  2\n",
       "2  3\n",
       "3  4\n",
       "4  5"
      ]
     },
     "execution_count": 54,
     "metadata": {},
     "output_type": "execute_result"
    }
   ],
   "source": [
    "pd.DataFrame({'A':[1,2,3,4,5]})"
   ]
  },
  {
   "cell_type": "code",
   "execution_count": 59,
   "id": "caf1171a-ac49-4191-8a01-f16259692ec2",
   "metadata": {},
   "outputs": [
    {
     "data": {
      "text/plain": [
       "array([1, 2, 3])"
      ]
     },
     "execution_count": 59,
     "metadata": {},
     "output_type": "execute_result"
    }
   ],
   "source": [
    "np.array([1,2,3])"
   ]
  }
 ],
 "metadata": {
  "kernelspec": {
   "display_name": "Python [conda env:data_analytics]",
   "language": "python",
   "name": "conda-env-data_analytics-py"
  },
  "language_info": {
   "codemirror_mode": {
    "name": "ipython",
    "version": 3
   },
   "file_extension": ".py",
   "mimetype": "text/x-python",
   "name": "python",
   "nbconvert_exporter": "python",
   "pygments_lexer": "ipython3",
   "version": "3.10.13"
  }
 },
 "nbformat": 4,
 "nbformat_minor": 5
}
