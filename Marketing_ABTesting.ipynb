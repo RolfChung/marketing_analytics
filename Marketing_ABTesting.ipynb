{
 "cells": [
  {
   "cell_type": "markdown",
   "id": "f7fe4137-840c-497b-94d7-a5d093a457dd",
   "metadata": {},
   "source": [
    "### A/B Testing for Marketing\n",
    "\n",
    "A/B testing is a vital method in marketing that enables businesses to compare two versions of a campaign to determine which one performs better. Key components of A/B testing include determining key metrics, which involves identifying the metrics that will measure success, such as conversion rates or engagement levels. Test allocation is also crucial, as traffic should be strategically allocated between the control and variant groups to ensure reliable results.\n",
    "\n",
    "Comparing conversion rates allows for the analysis of performance differences between the two groups. Additionally, calculating lift and conducting significance testing are necessary to determine if observed differences are statistically significant. Creating a lift function can automate the calculation of lift for various tests, enhancing efficiency.\n",
    "\n",
    "Evaluating statistical significance is important to confirm that results are not due to random chance. A/B testing can also be enhanced through segmentation, which allows for tailored tests that cater to different demographics or behaviors, thereby increasing relevance. Building an A/B test segmenting function is essential for efficiently segmenting users for targeted testing. Finally, using the segmentation function in A/B tests can optimize marketing strategies based on audience insights.\n",
    "\n",
    "The notebook below demonstrates these concepts in practice, providing a comprehensive overview of how to effectively implement A/B testing in marketing strategies."
   ]
  },
  {
   "cell_type": "markdown",
   "id": "b31bb9a5-6b11-47f6-97b3-f40c0cdef2c5",
   "metadata": {},
   "source": [
    "<h1>Import packages</h1>\n"
   ]
  },
  {
   "cell_type": "code",
   "execution_count": 150,
   "id": "677b218f-196e-4b9b-b9c8-7e5ff0984ea6",
   "metadata": {},
   "outputs": [],
   "source": [
    "import pandas as pd\n",
    "import matplotlib.pyplot as plt\n",
    "%matplotlib inline\n",
    "import seaborn as sns\n",
    "\n",
    "import matplotlib as mpl\n",
    "from cycler import cycler\n",
    "\n",
    "import numpy as np\n",
    "import os as os\n",
    "import time\n",
    "import pprint\n",
    "import sys\n",
    "import re\n",
    "import json\n",
    "import itertools\n",
    "import datetime as dt\n",
    "import scipy.stats as stats\n",
    "import scipy\n",
    "\n",
    "\n",
    "import pandas_datareader.data as web\n",
    "\n",
    "# security\n",
    "from dotenv import load_dotenv"
   ]
  },
  {
   "cell_type": "markdown",
   "id": "714cd5c5-2dbb-41aa-83df-b8acaead5c45",
   "metadata": {},
   "source": [
    "<h1>Import data</h1>"
   ]
  },
  {
   "cell_type": "code",
   "execution_count": 151,
   "id": "0ab47ece-6233-4aaf-ac43-61f738abb469",
   "metadata": {},
   "outputs": [
    {
     "name": "stdout",
     "output_type": "stream",
     "text": [
      "<class 'pandas.core.frame.DataFrame'>\n",
      "Index: 10037 entries, 0 to 10036\n",
      "Data columns (total 14 columns):\n",
      " #   Column                   Non-Null Count  Dtype  \n",
      "---  ------                   --------------  -----  \n",
      " 0   user_id                  10037 non-null  object \n",
      " 1   date_served              10037 non-null  object \n",
      " 2   marketing_channel        10037 non-null  object \n",
      " 3   variant                  10037 non-null  object \n",
      " 4   converted                10037 non-null  bool   \n",
      " 5   language_displayed       10037 non-null  object \n",
      " 6   language_preferred       10037 non-null  object \n",
      " 7   age_group                10037 non-null  object \n",
      " 8   subscribing_channel      1856 non-null   object \n",
      " 9   is_retained              10037 non-null  bool   \n",
      " 10  HouseAds                 10037 non-null  bool   \n",
      " 11  marketing_channel_coded  10037 non-null  int64  \n",
      " 12  channel_code             1856 non-null   float64\n",
      " 13  is_correct_lang          10037 non-null  object \n",
      "dtypes: bool(3), float64(1), int64(1), object(9)\n",
      "memory usage: 970.4+ KB\n",
      "None\n"
     ]
    }
   ],
   "source": [
    "ab_test = pd.read_csv('data/marketing_data_cleaned.csv', index_col=0)\n",
    "\n",
    "print(ab_test.info())"
   ]
  },
  {
   "cell_type": "markdown",
   "id": "3e8e5c7f-d1de-4ecd-8c08-dcad4823092f",
   "metadata": {},
   "source": [
    "<h2> Data preparation for the A/B-analyis</h2>"
   ]
  },
  {
   "cell_type": "code",
   "execution_count": 152,
   "id": "331981be-0713-4c54-8e89-d47d445fb4ad",
   "metadata": {},
   "outputs": [
    {
     "data": {
      "text/plain": [
       "Index(['House Ads', 'Instagram', 'Facebook', 'Push', 'Email'], dtype='object', name='marketing_channel')"
      ]
     },
     "execution_count": 152,
     "metadata": {},
     "output_type": "execute_result"
    }
   ],
   "source": [
    "marketing_channel_counts = \\\n",
    "ab_test['marketing_channel'].value_counts()\n",
    "marketing_channel_counts.index"
   ]
  },
  {
   "cell_type": "code",
   "execution_count": 153,
   "id": "74ee33f6-e53b-450b-810b-75b45926467a",
   "metadata": {},
   "outputs": [
    {
     "data": {
      "image/png": "[encoded data removed]",
      "text/plain": [
       "<Figure size 1000x500 with 1 Axes>"
      ]
     },
     "metadata": {},
     "output_type": "display_data"
    }
   ],
   "source": [
    "sns.set_style('darkgrid')\n",
    "\n",
    "plt.figure(figsize=(10,5))\n",
    "\n",
    "ax = sns.barplot(x=marketing_channel_counts.index,  # Assuming channel names are in the first column\n",
    "                 y=marketing_channel_counts.values,  # Assuming counts are in the second column              \n",
    "                 edgecolor='black', color = \"red\" )\n",
    "\n",
    "for p in ax.patches:\n",
    "    ax.annotate(f'{p.get_height():.0f}', \n",
    "                (p.get_x() + p.get_width() / 2., p.get_height()), \n",
    "                ha='center', va='center', \n",
    "                xytext=(0, 5), \n",
    "                textcoords='offset points')\n",
    "\n",
    "plt.xticks(rotation=90)\n",
    "plt.title(\"Count of marketing channels\")\n",
    "plt.show()"
   ]
  },
  {
   "cell_type": "code",
   "execution_count": 154,
   "id": "9e531ab3-1383-4a30-8f0f-c202675cc16d",
   "metadata": {},
   "outputs": [
    {
     "data": {
      "text/html": [
       "<div>\n",
       "<style scoped>\n",
       "    .dataframe tbody tr th:only-of-type {\n",
       "        vertical-align: middle;\n",
       "    }\n",
       "\n",
       "    .dataframe tbody tr th {\n",
       "        vertical-align: top;\n",
       "    }\n",
       "\n",
       "    .dataframe thead th {\n",
       "        text-align: right;\n",
       "    }\n",
       "</style>\n",
       "<table border=\"1\" class=\"dataframe\">\n",
       "  <thead>\n",
       "    <tr style=\"text-align: right;\">\n",
       "      <th></th>\n",
       "      <th>user_id</th>\n",
       "      <th>date_served</th>\n",
       "      <th>marketing_channel</th>\n",
       "      <th>variant</th>\n",
       "      <th>converted</th>\n",
       "      <th>language_displayed</th>\n",
       "      <th>language_preferred</th>\n",
       "      <th>age_group</th>\n",
       "      <th>subscribing_channel</th>\n",
       "      <th>is_retained</th>\n",
       "      <th>HouseAds</th>\n",
       "      <th>marketing_channel_coded</th>\n",
       "      <th>channel_code</th>\n",
       "      <th>is_correct_lang</th>\n",
       "    </tr>\n",
       "  </thead>\n",
       "  <tbody>\n",
       "    <tr>\n",
       "      <th>354</th>\n",
       "      <td>a100000526</td>\n",
       "      <td>2018-01-01</td>\n",
       "      <td>Email</td>\n",
       "      <td>personalization</td>\n",
       "      <td>True</td>\n",
       "      <td>Arabic</td>\n",
       "      <td>Arabic</td>\n",
       "      <td>0-18 years</td>\n",
       "      <td>Email</td>\n",
       "      <td>True</td>\n",
       "      <td>False</td>\n",
       "      <td>5</td>\n",
       "      <td>4.0</td>\n",
       "      <td>Yes</td>\n",
       "    </tr>\n",
       "    <tr>\n",
       "      <th>358</th>\n",
       "      <td>a100000530</td>\n",
       "      <td>2018-01-05</td>\n",
       "      <td>Email</td>\n",
       "      <td>personalization</td>\n",
       "      <td>True</td>\n",
       "      <td>Arabic</td>\n",
       "      <td>Arabic</td>\n",
       "      <td>19-24 years</td>\n",
       "      <td>Email</td>\n",
       "      <td>True</td>\n",
       "      <td>False</td>\n",
       "      <td>5</td>\n",
       "      <td>4.0</td>\n",
       "      <td>Yes</td>\n",
       "    </tr>\n",
       "    <tr>\n",
       "      <th>362</th>\n",
       "      <td>a100000534</td>\n",
       "      <td>2018-01-09</td>\n",
       "      <td>Email</td>\n",
       "      <td>personalization</td>\n",
       "      <td>False</td>\n",
       "      <td>English</td>\n",
       "      <td>English</td>\n",
       "      <td>45-55 years</td>\n",
       "      <td>Email</td>\n",
       "      <td>True</td>\n",
       "      <td>False</td>\n",
       "      <td>5</td>\n",
       "      <td>4.0</td>\n",
       "      <td>Yes</td>\n",
       "    </tr>\n",
       "    <tr>\n",
       "      <th>366</th>\n",
       "      <td>a100000538</td>\n",
       "      <td>2018-01-13</td>\n",
       "      <td>Email</td>\n",
       "      <td>personalization</td>\n",
       "      <td>True</td>\n",
       "      <td>Arabic</td>\n",
       "      <td>Arabic</td>\n",
       "      <td>24-30 years</td>\n",
       "      <td>Email</td>\n",
       "      <td>False</td>\n",
       "      <td>False</td>\n",
       "      <td>5</td>\n",
       "      <td>4.0</td>\n",
       "      <td>Yes</td>\n",
       "    </tr>\n",
       "    <tr>\n",
       "      <th>370</th>\n",
       "      <td>a100000542</td>\n",
       "      <td>2018-01-17</td>\n",
       "      <td>Email</td>\n",
       "      <td>personalization</td>\n",
       "      <td>True</td>\n",
       "      <td>English</td>\n",
       "      <td>English</td>\n",
       "      <td>0-18 years</td>\n",
       "      <td>Email</td>\n",
       "      <td>False</td>\n",
       "      <td>False</td>\n",
       "      <td>5</td>\n",
       "      <td>4.0</td>\n",
       "      <td>Yes</td>\n",
       "    </tr>\n",
       "  </tbody>\n",
       "</table>\n",
       "</div>"
      ],
      "text/plain": [
       "        user_id date_served marketing_channel          variant  converted  \\\n",
       "354  a100000526  2018-01-01             Email  personalization       True   \n",
       "358  a100000530  2018-01-05             Email  personalization       True   \n",
       "362  a100000534  2018-01-09             Email  personalization      False   \n",
       "366  a100000538  2018-01-13             Email  personalization       True   \n",
       "370  a100000542  2018-01-17             Email  personalization       True   \n",
       "\n",
       "    language_displayed language_preferred    age_group subscribing_channel  \\\n",
       "354             Arabic             Arabic   0-18 years               Email   \n",
       "358             Arabic             Arabic  19-24 years               Email   \n",
       "362            English            English  45-55 years               Email   \n",
       "366             Arabic             Arabic  24-30 years               Email   \n",
       "370            English            English   0-18 years               Email   \n",
       "\n",
       "     is_retained  HouseAds  marketing_channel_coded  channel_code  \\\n",
       "354         True     False                        5           4.0   \n",
       "358         True     False                        5           4.0   \n",
       "362         True     False                        5           4.0   \n",
       "366        False     False                        5           4.0   \n",
       "370        False     False                        5           4.0   \n",
       "\n",
       "    is_correct_lang  \n",
       "354             Yes  \n",
       "358             Yes  \n",
       "362             Yes  \n",
       "366             Yes  \n",
       "370             Yes  "
      ]
     },
     "execution_count": 154,
     "metadata": {},
     "output_type": "execute_result"
    }
   ],
   "source": [
    "# Isolating the rows of marketing where the 'marketing_channel' is 'Email' and storing the results in email_rows.\n",
    "email_rows = ab_test[ab_test['marketing_channel'] == 'Email']\n",
    "\n",
    "email_rows.head()"
   ]
  },
  {
   "cell_type": "code",
   "execution_count": 155,
   "id": "154c762a-c007-493c-bff8-72223db6ec1a",
   "metadata": {},
   "outputs": [
    {
     "name": "stdout",
     "output_type": "stream",
     "text": [
      "variant\n",
      "control            5091\n",
      "personalization    4946\n",
      "Name: count, dtype: int64\n"
     ]
    }
   ],
   "source": [
    "# There are two different groups.\n",
    "# In the control are no changes, but in perso are.\n",
    "# Is there a significant difference in subscriptions in the perso variant?\n",
    "print(ab_test['variant'].value_counts())"
   ]
  },
  {
   "cell_type": "code",
   "execution_count": 156,
   "id": "8c296ea1-fd3a-4393-b488-bdbb2eb46dc7",
   "metadata": {},
   "outputs": [
    {
     "data": {
      "text/plain": [
       "variant\n",
       "control            270\n",
       "personalization    284\n",
       "Name: user_id, dtype: int64"
      ]
     },
     "execution_count": 156,
     "metadata": {},
     "output_type": "execute_result"
    }
   ],
   "source": [
    "# Grouping email by variant and sum the unique users and store the results in alloc.\n",
    "\n",
    "unique_users_in_group = \\\n",
    "email_rows.groupby('variant')['user_id'].nunique()\n",
    "\n",
    "unique_users_in_group "
   ]
  },
  {
   "cell_type": "code",
   "execution_count": 157,
   "id": "ff28750a-cae6-4bf2-9b68-cff5f816e7b5",
   "metadata": {},
   "outputs": [
    {
     "name": "stdout",
     "output_type": "stream",
     "text": [
      "270\n",
      "284\n"
     ]
    },
    {
     "data": {
      "image/png": "[encoded data removed]",
      "text/plain": [
       "<Figure size 600x400 with 1 Axes>"
      ]
     },
     "metadata": {},
     "output_type": "display_data"
    }
   ],
   "source": [
    "fig, ax = plt.subplots(figsize=(6, 4))\n",
    "\n",
    "bars = ax.bar(unique_users_in_group.index, unique_users_in_group.values, \n",
    "              width=0.4, color=['red', 'green'], edgecolor='black', linewidth=3)\n",
    "ax.set_title('Unique customers assigned to control or personal group', size=12)\n",
    "\n",
    "for bar in bars:\n",
    "    height = bar.get_height()\n",
    "    print(height)\n",
    "    if height > 0: \n",
    "        ax.annotate(f'{height:.0f}',\n",
    "                   (bar.get_x() + bar.get_width() / 2., height),\n",
    "                   ha='center', va='center',\n",
    "                   xytext=(0, -10),\n",
    "                   textcoords='offset points')\n",
    "    \n",
    "# matplotlib.pyplot.text(x, y, s, fontdict=None, **kwargs)\n",
    "\n",
    "plt.text(0, 150, \"There's a slight difference in allocation, \\n but it's within the expected range.\",\n",
    "        size=13, color='blue')\n",
    "\n",
    "plt.xticks(rotation=90)\n",
    "\n",
    "plt.tight_layout()  # Prevent title overlap\n",
    "plt.show()\n",
    "\n"
   ]
  },
  {
   "cell_type": "markdown",
   "id": "28df33b6-3024-47f9-a0d8-b7dc4bdb73aa",
   "metadata": {},
   "source": [
    "\n",
    "\n",
    "<h4>Definition of Conversion Rate in Advertising</h4>\n",
    "\n",
    "<p>\n",
    "A conversion rate is a critical marketing metric that measures the percentage of potential customers who take a specific desired action after engaging with an advertisement or marketing campaign. This action could range from making a purchase, signing up for a newsletter, downloading an app, filling out a contact form, or completing any other predefined goal that represents value for a business.\n",
    "Usage of Conversion Rate\n",
    "</p>\n",
    "<p>\n",
    "Marketers and advertisers use conversion rates as a key performance indicator to evaluate the effectiveness of their advertising strategies. By tracking conversion rates, businesses can understand how well their marketing efforts are performing in transforming potential leads into actual customers. The calculation is straightforward: divide the number of conversions by the total number of visitors or interactions, then multiply by 100 to get a percentage. For example, if 50 people out of 1,000 website visitors make a purchase, the conversion rate would be 5%.\n",
    "<p>\n",
    "\n",
    "https://www.creatopy.com/blog/what-is-conversion-rate-in-advertising/\n",
    " \n",
    "\n",
    "<h4>Conversion rate for the control and personalization group</h4>\n",
    "    \n",
    "<p>\n",
    "The goal here is to get the two conversion rates or means.<br>\n",
    "This is the basis for calculating the Lift and determine the statistical significance.\n",
    "However, before a preparation of the data is necessary to ensure, it's validity.\n",
    "In particular it is necessary to ensure that each user is represented only once per variant (even if they interacted multiple times), and to transform this many-to-many relationship into a one-to-many relationship. This is achieved by grouping user_id and variant and reduce it to a single conversion status per user per variant.\n",
    "</p>"
   ]
  },
  {
   "cell_type": "code",
   "execution_count": 158,
   "id": "263bb01e-0c28-4645-a47b-d1e4d86cbdbe",
   "metadata": {},
   "outputs": [
    {
     "data": {
      "text/plain": [
       "converted\n",
       "False    372\n",
       "True     193\n",
       "Name: count, dtype: int64"
      ]
     },
     "execution_count": 158,
     "metadata": {},
     "output_type": "execute_result"
    }
   ],
   "source": [
    "email_rows['converted'].unique()\n",
    "email_rows['converted'].value_counts()"
   ]
  },
  {
   "cell_type": "code",
   "execution_count": 159,
   "id": "d3bfa714-8b46-4ca4-a267-7a874f6ae18e",
   "metadata": {},
   "outputs": [
    {
     "data": {
      "text/plain": [
       "variant\n",
       "personalization    291\n",
       "control            274\n",
       "Name: count, dtype: int64"
      ]
     },
     "execution_count": 159,
     "metadata": {},
     "output_type": "execute_result"
    }
   ],
   "source": [
    "email_rows['variant'].value_counts()"
   ]
  },
  {
   "cell_type": "code",
   "execution_count": 160,
   "id": "477b37cc-4dd1-458e-ab7a-8142a4732863",
   "metadata": {},
   "outputs": [
    {
     "data": {
      "text/plain": [
       "variant\n",
       "control            274\n",
       "personalization    291\n",
       "Name: converted, dtype: int64"
      ]
     },
     "execution_count": 160,
     "metadata": {},
     "output_type": "execute_result"
    }
   ],
   "source": [
    "# Is the conversion deviating between perso and control?\n",
    "# Conversion higher or lower or the same?\n",
    "\n",
    "email_rows.groupby('variant')['converted'].count()"
   ]
  },
  {
   "cell_type": "markdown",
   "id": "751b8091-370f-470c-b4e9-f236d3ea0acc",
   "metadata": {
    "tags": []
   },
   "source": [
    "<h4> Is the user-id occuring multiple time in different rows</h4>\n",
    "Are user_id's occurring multiple times?\n",
    "\n",
    "Yes, for example one user can be in multiple marketing channels at different points in time.<br>"
   ]
  },
  {
   "cell_type": "code",
   "execution_count": 161,
   "id": "22deae97-35b5-4204-adc7-579eed522184",
   "metadata": {},
   "outputs": [
    {
     "name": "stdout",
     "output_type": "stream",
     "text": [
      "7309\n",
      "10037\n",
      "2728\n"
     ]
    }
   ],
   "source": [
    "print(len(ab_test['user_id'].unique()))\n",
    "print(ab_test.shape[0])\n",
    "print(10037 - 7309)\n",
    "# User-id's occur 2728 times more often than unique user id's are there."
   ]
  },
  {
   "cell_type": "code",
   "execution_count": 162,
   "id": "603e9128-6a08-4a3d-8cdd-030e9b05df54",
   "metadata": {},
   "outputs": [
    {
     "name": "stdout",
     "output_type": "stream",
     "text": [
      "         user_id marketing_channel          variant date_served  converted\n",
      "21    a100000050         House Ads  personalization  2018-01-02       True\n",
      "22    a100000050         House Ads  personalization  2018-01-01      False\n",
      "23    a100000051         House Ads  personalization  2018-01-02       True\n",
      "24    a100000051              Push  personalization  2018-01-01      False\n",
      "25    a100000052         House Ads  personalization  2018-01-02       True\n",
      "...          ...               ...              ...         ...        ...\n",
      "9532  a100006807         Instagram  personalization  2018-01-31      False\n",
      "9533  a100006808          Facebook  personalization  2018-01-05      False\n",
      "9534  a100006808              Push  personalization  2018-01-31      False\n",
      "9535  a100006809         House Ads  personalization  2018-01-05      False\n",
      "9536  a100006809         Instagram  personalization  2018-01-31      False\n",
      "\n",
      "[5009 rows x 5 columns]\n"
     ]
    }
   ],
   "source": [
    "duplicates = ab_test[ab_test['user_id'].duplicated(keep=False)]\n",
    "print(duplicates[['user_id', 'marketing_channel', 'variant', 'date_served', 'converted']])"
   ]
  },
  {
   "cell_type": "markdown",
   "id": "87fff44a-f7e1-40cd-b6ac-c04b217fc8e8",
   "metadata": {},
   "source": [
    "The purpose of the code is specifically to handle cases where a user_id appears multiple times in the data. This is particularly useful because it simplifies the data by consolidating multiple rows per user_id and variant into a single value."
   ]
  },
  {
   "cell_type": "code",
   "execution_count": 163,
   "id": "b1aa5c49-7168-4959-8c97-e8de22b49839",
   "metadata": {},
   "outputs": [
    {
     "name": "stdout",
     "output_type": "stream",
     "text": [
      "user_id     variant        \n",
      "a100000526  personalization     True\n",
      "a100000530  personalization     True\n",
      "a100000534  personalization    False\n",
      "a100000538  personalization     True\n",
      "a100000542  personalization     True\n",
      "Name: converted, dtype: bool\n",
      "-----------------------------------------\n",
      "user_id     variant\n",
      "a100007288  control    True\n",
      "a100007289  control    True\n",
      "a100007290  control    True\n",
      "a100007291  control    True\n",
      "a100007293  control    True\n",
      "Name: converted, dtype: bool\n",
      "-----------------------------------------\n",
      "0\n",
      "(554,)\n"
     ]
    }
   ],
   "source": [
    "subscribers = email_rows.groupby(['user_id', 'variant'])['converted'].max()\n",
    "print(subscribers.head())\n",
    "print('-----------------------------------------')\n",
    "print(subscribers.tail())\n",
    "print('-----------------------------------------')\n",
    "print(subscribers.isnull().sum())\n",
    "print(subscribers.shape)"
   ]
  },
  {
   "cell_type": "code",
   "execution_count": 164,
   "id": "7555176b-4e7c-4364-8932-084a37e22e8d",
   "metadata": {},
   "outputs": [
    {
     "name": "stdout",
     "output_type": "stream",
     "text": [
      "variant    control personalization\n",
      "user_id                           \n",
      "a100000526     NaN            True\n",
      "a100000530     NaN            True\n",
      "a100000534     NaN           False\n",
      "a100000538     NaN            True\n",
      "a100000542     NaN            True\n",
      "-----------------------------------------\n",
      "variant    control personalization\n",
      "user_id                           \n",
      "a100007288    True             NaN\n",
      "a100007289    True             NaN\n",
      "a100007290    True             NaN\n",
      "a100007291    True             NaN\n",
      "a100007293    True             NaN\n",
      "-----------------------------------------\n",
      "variant\n",
      "control            283\n",
      "personalization    269\n",
      "dtype: int64\n",
      "None\n"
     ]
    },
    {
     "data": {
      "text/plain": [
       "552"
      ]
     },
     "execution_count": 164,
     "metadata": {},
     "output_type": "execute_result"
    }
   ],
   "source": [
    "subscribers_df = pd.DataFrame(subscribers.unstack(level=1))\n",
    "print(subscribers_df.head())\n",
    "print('-----------------------------------------')\n",
    "print(subscribers_df.tail())\n",
    "print('-----------------------------------------')\n",
    "print(print(subscribers_df.isnull().sum()))\n",
    "283 + 269"
   ]
  },
  {
   "cell_type": "code",
   "execution_count": 165,
   "id": "af171085-830b-4f48-b329-709de799f7f8",
   "metadata": {},
   "outputs": [
    {
     "name": "stdout",
     "output_type": "stream",
     "text": [
      "<class 'pandas.core.series.Series'>\n",
      "-----------------------------------------\n",
      "user_id\n",
      "a100000687    False\n",
      "a100000688     True\n",
      "a100000689     True\n",
      "a100000690     True\n",
      "a100000691     True\n",
      "Name: control, dtype: object\n",
      "-----------------------------------------\n",
      "<class 'pandas.core.series.Series'>\n",
      "Index: 270 entries, a100000687 to a100007293\n",
      "Series name: control\n",
      "Non-Null Count  Dtype \n",
      "--------------  ----- \n",
      "270 non-null    object\n",
      "dtypes: object(1)\n",
      "memory usage: 4.2+ KB\n",
      "None\n"
     ]
    }
   ],
   "source": [
    "# building the groups needed for comparison \n",
    "# is there a significant difference in the mean of the groups\n",
    "# inferential statistic or a/b testing\n",
    "control = subscribers_df['control'].dropna()\n",
    "perso = subscribers_df['personalization'].dropna()\n",
    "\n",
    "print(type(control))\n",
    "print('-----------------------------------------')\n",
    "print(control.head())\n",
    "print('-----------------------------------------')\n",
    "print(control.info())"
   ]
  },
  {
   "cell_type": "markdown",
   "id": "49cd830e-53d9-44fe-8aee-84baa11db0e2",
   "metadata": {},
   "source": [
    "<p>\n",
    "The conversion rates are the means of the control and perso group.<br>\n",
    "Is the difference significant?\n",
    "</p>"
   ]
  },
  {
   "cell_type": "code",
   "execution_count": 166,
   "id": "777e4bb9-f1ce-47c5-83b5-c7472eabfb0f",
   "metadata": {},
   "outputs": [
    {
     "name": "stdout",
     "output_type": "stream",
     "text": [
      "Conversion rate of the control group: 0.28\n",
      "Conversion rate of the perso group: 0.39\n"
     ]
    }
   ],
   "source": [
    "# conversion Rate= Number of conversions / Total number of users exposed to the variant \n",
    "control_conversion_rate = np.round(np.mean(control), 2)\n",
    "perso_conversion_rate = np.round(np.mean(perso), 2)\n",
    "\n",
    "print(f'Conversion rate of the control group: {control_conversion_rate}')\n",
    "print(f'Conversion rate of the perso group: {perso_conversion_rate}')"
   ]
  },
  {
   "cell_type": "markdown",
   "id": "267b580b-3194-46d9-8249-1b394a42717d",
   "metadata": {},
   "source": [
    "<b>Conclusion</b>:\n",
    "<p>\n",
    "The conversion rate of the of the perso group is higher than that of the control group.<br>\n",
    "This indicates an effectiveness of the email variant treatment.\n",
    "</p>\n",
    "\n",
    "<h4>Lift</h4>\n",
    "\n",
    "<p>\n",
    "In A/B testing, lift refers to the percentage or relative improvement in a key metric (such as conversion rate, click-through rate, or revenue) achieved by the treatment group (B) compared to the control group (A). It quantifies the effectiveness of the changes introduced in the treatment group.\n",
    "</p>\n",
    "\n",
    "<p>\n",
    "Lift = (Conversion RateTreatment − Conversion RateControl) / Conversion RateControl ×100\n",
    "</p>"
   ]
  },
  {
   "cell_type": "code",
   "execution_count": 167,
   "id": "d346233b-737d-4ede-a160-df16dd661ee6",
   "metadata": {},
   "outputs": [],
   "source": [
    "def lift(c, p):\n",
    "    control_mean = np.mean(c)\n",
    "    perso_mean = np.mean(p)\n",
    "    lift = np.round((perso_mean - control_mean) / control_mean *100, 2)\n",
    "    return str(lift) + \"%\""
   ]
  },
  {
   "cell_type": "code",
   "execution_count": 168,
   "id": "875565cd-9b12-478e-8ac1-f4176f759968",
   "metadata": {},
   "outputs": [
    {
     "name": "stdout",
     "output_type": "stream",
     "text": [
      "Lift: 38.85%\n"
     ]
    }
   ],
   "source": [
    "print(f\"Lift: {lift(control, perso)}\")\n",
    "# The improvement in conversion is with 39% of 100 large."
   ]
  },
  {
   "cell_type": "markdown",
   "id": "61f8ff68-e08a-490c-bf3d-5ef9c113b584",
   "metadata": {},
   "source": [
    "<p>\n",
    "The next step is to test for the statistical significance with a T-Test.\n",
    "</p>\n",
    "\n",
    "<h4>What is a T test?</h4>\n",
    "\n",
    "<p>\n",
    "A t-test (also called Student’s t-test) is a statistical method used to assess the difference between the means of exactly two groups. It concentrates on a single numerical variable, rather than focusing on counts or relationships among multiple variables. When analyzing the average of a sample of measurements, t-tests are the most frequently used technique for data evaluation.\n",
    "</p>\n",
    "\n",
    "https://www.statisticshowto.com/probability-and-statistics/t-distribution/independent-samples-t-test/\n",
    "\n",
    "<p>\n",
    "The significance level is set at 0.05.<br>\n",
    "Null-hypothesis: there is no difference in means.\n",
    "</p>"
   ]
  },
  {
   "cell_type": "code",
   "execution_count": 169,
   "id": "95fc5771-5bbc-4ea1-b169-d101892d6e26",
   "metadata": {},
   "outputs": [],
   "source": [
    "control = control.astype(int)\n",
    "perso = perso.astype(int)"
   ]
  },
  {
   "cell_type": "code",
   "execution_count": 170,
   "id": "5bfd5aa1-309f-4ca7-9db7-4b68b497d754",
   "metadata": {},
   "outputs": [
    {
     "data": {
      "text/plain": [
       "TtestResult(statistic=-2.739963028212209, pvalue=0.006343622269724659, df=551.4774029266305)"
      ]
     },
     "execution_count": 170,
     "metadata": {},
     "output_type": "execute_result"
    }
   ],
   "source": [
    "import statistics\n",
    "stats.ttest_ind(control, perso, equal_var=False)"
   ]
  },
  {
   "cell_type": "markdown",
   "id": "7b2baafe-817b-4cc9-9cd9-07561adcceb9",
   "metadata": {},
   "source": [
    "<p>\n",
    "It is highly unlikely to observe a p-value such small if the Null would be true.<br>\n",
    "There is a statistical difference of the means.\n",
    "</p>\n",
    "\n",
    "\n",
    "<h3> A/B testing for customer segments</h3>\n",
    "\n",
    "<p>\n",
    "When running A/B experiments, it is important to check how new features are affecting specific demographics. Sometimes features that are highly appealing to one group are less appealing to others.\n",
    "\n",
    "The function ab_segments() analyzes the impact of the A/B tests on segments of data and is reusable for this kind of data.\n",
    "</p>"
   ]
  },
  {
   "cell_type": "code",
   "execution_count": 171,
   "id": "3695a5e5-94ff-4d23-8eff-0cda293ec1ac",
   "metadata": {},
   "outputs": [
    {
     "data": {
      "text/plain": [
       "language_displayed\n",
       "English    9793\n",
       "Spanish     136\n",
       "German       81\n",
       "Arabic       27\n",
       "Name: count, dtype: int64"
      ]
     },
     "execution_count": 171,
     "metadata": {},
     "output_type": "execute_result"
    }
   ],
   "source": [
    "ab_test['language_displayed'].value_counts() "
   ]
  },
  {
   "cell_type": "code",
   "execution_count": 172,
   "id": "a98422d2-eecb-4bcb-b7ac-6828d707c311",
   "metadata": {},
   "outputs": [
    {
     "data": {
      "image/png": "[encoded data removed]",
      "text/plain": [
       "<Figure size 600x300 with 1 Axes>"
      ]
     },
     "metadata": {},
     "output_type": "display_data"
    }
   ],
   "source": [
    "\n",
    "ab_test['language_displayed'].value_counts().plot.bar(figsize=(6,3), edgecolor='black',\n",
    "                                                     color=['orange', 'blue'])\n",
    "plt.text(-0.4, 6000, \"The data in the segments is small besides English.\", size=14)\n",
    "plt.text(-0.4, 5000, \"This can impair the validity of the t-test.\", size=14)\n",
    "\n",
    "plt.title('Language displayed by size.')\n",
    "\n",
    "plt.show()"
   ]
  },
  {
   "cell_type": "code",
   "execution_count": 173,
   "id": "279ea262-6b3f-4bbb-8f92-b9c30bf91133",
   "metadata": {},
   "outputs": [],
   "source": [
    "# Preparation\n",
    "\n",
    "# print(ab_test.info())\n",
    "# What input do I need?\n",
    "# The segment and the marketing channel\n",
    "# In this case the marketing channel is 'Email'\n",
    "\n",
    "# print(ab_test['language_displayed'].unique())\n",
    "# print(ab_test['variant'].unique())\n",
    "# email_rows_2 = ab_test[(ab_test['marketing_channel']=='Email') & (ab_test['language_displayed']=='English')]\n",
    "# print(email_rows_2)\n",
    "\n",
    "# Consolidating user_id from many to many to one to one\n",
    "# One user_id to one state of converted\n",
    "# The max func selects the 'converted' users or subscribers on ground of the email\n",
    "# subscribers = email_rows.groupby(['user_id', 'variant'])['converted'].max()\n",
    "# Now I want to get the subscribers in the control and perso groups\n",
    "# print(type(subscribers.unstack(level=1)))\n",
    "# subscribers_2 = pd.DataFrame(subscribers.unstack(level=1))\n",
    "\n",
    "# control = subscribers_2['control'].dropna()\n",
    "# print(control.head())\n",
    "# personalization = subscribers_2['personalization'].dropna()\n",
    "# print(perso.head())\n",
    "# Now there are two groups or columns to compare\n",
    "# subscribers_2.head()\n",
    "\n",
    "# print(f'lift: {lift(control, personalization)}')\n",
    "# print(f'T-test: {stats.ttest_ind(control.astype(int), personalization.astype(int))}')"
   ]
  },
  {
   "cell_type": "code",
   "execution_count": 174,
   "id": "82d79ba9-76ae-48d3-833f-46eeebe847f6",
   "metadata": {},
   "outputs": [],
   "source": [
    "# Turning the prepared code into a function ab_segment\n",
    "\n",
    "def ab_segment(segment):\n",
    "    \"\"\" Calculating lift and t-test for a customer segment in form of a column. \"\"\"\n",
    "    for subsegment in np.unique(ab_test[segment].values):\n",
    "        email_rows = \\\n",
    "        ab_test[(ab_test['marketing_channel']=='Email') & (ab_test[segment]==subsegment)]\n",
    "        subscribers = email_rows.groupby(['user_id', 'variant'])['converted'].max()\n",
    "        subscribers = pd.DataFrame(subscribers.unstack(level=1))\n",
    "        control = pd.to_numeric(subscribers['control'].dropna())\n",
    "        print(control.shape)\n",
    "        personalization = pd.to_numeric(subscribers['personalization'].dropna())\n",
    "        print(personalization.shape)\n",
    "        print(subsegment)\n",
    "        print(f'Lift: {lift(control, personalization)}')\n",
    "        print(f'T-test: {stats.ttest_ind(control, personalization, equal_var=False)}', '\\n\\n')\n",
    "        \n"
   ]
  },
  {
   "cell_type": "code",
   "execution_count": 175,
   "id": "10c125d4-52a8-4788-8fe8-3a96c8e08e07",
   "metadata": {},
   "outputs": [
    {
     "name": "stdout",
     "output_type": "stream",
     "text": [
      "(5,)\n",
      "(5,)\n",
      "Arabic\n",
      "Lift: 50.0%\n",
      "T-test: TtestResult(statistic=-0.5773502691896255, pvalue=0.5795840000000001, df=8.0) \n",
      "\n",
      "\n",
      "(240,)\n",
      "(248,)\n",
      "English\n",
      "Lift: 39.0%\n",
      "T-test: TtestResult(statistic=-2.222102224881437, pvalue=0.02673829892846209, df=483.6363081645733) \n",
      "\n",
      "\n",
      "(17,)\n",
      "(27,)\n",
      "German\n",
      "Lift: -1.62%\n",
      "T-test: TtestResult(statistic=0.1952924602041084, pvalue=0.8462440448323344, df=36.603403481506916) \n",
      "\n",
      "\n",
      "(8,)\n",
      "(4,)\n",
      "Spanish\n",
      "Lift: 166.67%\n",
      "T-test: TtestResult(statistic=-3.415650255319866, pvalue=0.011201432554090134, df=7.0) \n",
      "\n",
      "\n"
     ]
    },
    {
     "name": "stderr",
     "output_type": "stream",
     "text": [
      "C:\\Users\\gamarandor\\miniconda3\\envs\\data_analytics\\lib\\site-packages\\scipy\\stats\\_axis_nan_policy.py:523: RuntimeWarning: Precision loss occurred in moment calculation due to catastrophic cancellation. This occurs when the data are nearly identical. Results may be unreliable.\n",
      "  res = hypotest_fun_out(*samples, **kwds)\n"
     ]
    }
   ],
   "source": [
    "ab_segment('language_displayed')"
   ]
  },
  {
   "cell_type": "code",
   "execution_count": 176,
   "id": "eea23232-466a-4021-af5b-ff08f3e21561",
   "metadata": {},
   "outputs": [
    {
     "name": "stdout",
     "output_type": "stream",
     "text": [
      "(41,)\n",
      "(50,)\n",
      "0-18 years\n",
      "Lift: 121.4%\n",
      "T-test: TtestResult(statistic=-3.0095600430055485, pvalue=0.003405503180083449, df=88.74144211451785) \n",
      "\n",
      "\n",
      "(40,)\n",
      "(67,)\n",
      "19-24 years\n",
      "Lift: 106.24%\n",
      "T-test: TtestResult(statistic=-3.10888446851571, pvalue=0.002524678488973634, df=88.6623297482739) \n",
      "\n",
      "\n",
      "(41,)\n",
      "(75,)\n",
      "24-30 years\n",
      "Lift: 161.19%\n",
      "T-test: TtestResult(statistic=-4.061581802919228, pvalue=0.00010024705264421229, df=94.98614564474552) \n",
      "\n",
      "\n",
      "(39,)\n",
      "(21,)\n",
      "30-36 years\n",
      "Lift: -100.0%\n",
      "T-test: TtestResult(statistic=4.358898943540673, pvalue=9.6033545892936e-05, df=38.0) \n",
      "\n",
      "\n",
      "(39,)\n",
      "(24,)\n",
      "36-45 years\n",
      "Lift: -85.23%\n",
      "T-test: TtestResult(statistic=2.8598951966288237, pvalue=0.00591754610509135, df=56.82800621502047) \n",
      "\n",
      "\n",
      "(40,)\n",
      "(24,)\n",
      "45-55 years\n",
      "Lift: -72.22%\n",
      "T-test: TtestResult(statistic=2.32212705012504, pvalue=0.023526638749047254, df=61.97056269268548) \n",
      "\n",
      "\n",
      "(30,)\n",
      "(23,)\n",
      "55+ years\n",
      "Lift: -100.0%\n",
      "T-test: TtestResult(statistic=3.807886552931954, pvalue=0.0006722787664954122, df=29.0) \n",
      "\n",
      "\n"
     ]
    }
   ],
   "source": [
    "ab_segment('age_group')"
   ]
  },
  {
   "cell_type": "code",
   "execution_count": null,
   "id": "b2b01463-b477-4327-9272-eb29112c3ba4",
   "metadata": {},
   "outputs": [],
   "source": []
  },
  {
   "cell_type": "code",
   "execution_count": null,
   "id": "7242a1ff-e817-4b0c-900f-bc01136d9c67",
   "metadata": {},
   "outputs": [],
   "source": []
  }
 ],
 "metadata": {
  "kernelspec": {
   "display_name": "Python [conda env:data_analytics]",
   "language": "python",
   "name": "conda-env-data_analytics-py"
  },
  "language_info": {
   "codemirror_mode": {
    "name": "ipython",
    "version": 3
   },
   "file_extension": ".py",
   "mimetype": "text/x-python",
   "name": "python",
   "nbconvert_exporter": "python",
   "pygments_lexer": "ipython3",
   "version": "3.10.13"
  }
 },
 "nbformat": 4,
 "nbformat_minor": 5
}
