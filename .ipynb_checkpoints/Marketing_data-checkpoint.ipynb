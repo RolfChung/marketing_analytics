{
 "cells": [
  {
   "cell_type": "markdown",
   "id": "376e58fd-964d-46e6-b77f-e054a7c42a9f",
   "metadata": {},
   "source": [
    "<h1>Summary</h1>\n",
    "\n",
    "<p>\n",
    "of the complete projects.\n",
    "</p>"
   ]
  },
  {
   "cell_type": "markdown",
   "id": "13d07364-3497-4b77-a364-ed76eb162e24",
   "metadata": {},
   "source": [
    "<!DOCTYPE html>\n",
    "<html lang=\"en\">\n",
    "<head>\n",
    "    <meta charset=\"UTF-8\">\n",
    "    <meta name=\"viewport\" content=\"width=device-width, initial-scale=1.0\">\n",
    "    <title>Marketing Campaign Analysis with pandas</title>\n",
    "</head>\n",
    "<body>\n",
    "    <h1>Marketing Campaign Analysis with pandas</h1>\n",
    "    <h2>Project Overview</h2>\n",
    "    <p>In this project, we'll explore how to apply technical data science skills to practical marketing applications using Python and pandas. We'll work with a fictional marketing dataset to answer key business questions, such as \"What was the outcome of this campaign?\", \"Which channel brings in the most subscribers?\", and \"Why is a specific channel not performing well?\". This project will reinforce foundational Python and pandas concepts, including dataset merging/slicing, groupby operations, data type correction, and result visualization with matplotlib.</p>\n",
    "    <h2>Project Structure</h2>\n",
    "    <ul>\n",
    "        <li><strong>Dataset Overview</strong>: A summary of the marketing dataset used in this project</li>\n",
    "        <li><strong>Getting Started</strong>: Instructions for setting up the project environment and installing required libraries</li>\n",
    "        <li><strong>Analysis</strong>: A step-by-step guide to performing marketing analysis using pandas</li>\n",
    "        <li><strong>Visualization</strong>: A section on visualizing results using matplotlib</li>\n",
    "        <li><strong>Conclusion</strong>: A review of the project's findings and implications for marketing strategy</li>\n",
    "    </ul>\n",
    "    <h2>Dataset Overview</h2>\n",
    "    <p>The dataset provides detailed information on user interactions with various marketing campaigns. The dataset has the following characteristics:</p>\n",
    "    <pre>\n",
    "        <code>\n",
    "            class 'pandas.core.frame.DataFrame'>\n",
    "            RangeIndex: 10037 entries, 0 to 10036\n",
    "            Data columns (total 12 columns):\n",
    "             #   Column               Non-Null Count  Dtype \n",
    "            ---  ------               --------------  ----- \n",
    "             0   user_id              10037 non-null  object\n",
    "             1   date_served          10021 non-null  object\n",
    "             2   marketing_channel    10022 non-null  object\n",
    "             3   variant              10037 non-null  object\n",
    "             4   converted            10022 non-null  object\n",
    "             5   language_displayed   10037 non-null  object\n",
    "             6   language_preferred   10037 non-null  object\n",
    "             7   age_group            10037 non-null  object\n",
    "             8   date_subscribed      1856 non-null   object\n",
    "             9   date_canceled        577 non-null    object\n",
    "             10  subscribing_channel  1856 non-null   object\n",
    "             11  is_retained          1856 non-null   object\n",
    "            dtypes: object(12)\n",
    "            memory usage: 941.1+ KB\n",
    "        </code>\n",
    "    </pre>\n",
    "    <h2>Getting Started</h2>\n",
    "    <p>To get started with this project, ensure you have Python and pandas installed. You can install pandas using <code>pip install pandas</code>. For data visualization, also install matplotlib using <code>pip install matplotlib</code>. Clone this repository and follow the project materials to practice and improve your data science capabilities.</p>\n",
    "    <h2>Contributing</h2>\n",
    "    <p>We welcome contributions to this project! If you encounter any issues or have suggestions, please open an issue or submit a pull request.</p>\n",
    "    <h2>License</h2>\n",
    "    <p>This project is licensed under the MIT License. See the <a href=\"LICENSE\">LICENSE</a> file for details.</p>\n",
    "</body>\n",
    "</html>"
   ]
  },
  {
   "cell_type": "code",
   "execution_count": null,
   "id": "9f82bbaf-7d77-4403-b9ed-6f1d62d0a2e5",
   "metadata": {},
   "outputs": [],
   "source": []
  },
  {
   "cell_type": "markdown",
   "id": "6d993b32-9d8d-456e-bbeb-ed9ab383ba85",
   "metadata": {},
   "source": [
    "<h1>Import packages</h1>"
   ]
  },
  {
   "cell_type": "code",
   "execution_count": 1,
   "id": "2f51bae0-a84c-467e-a223-97b7b82a453e",
   "metadata": {},
   "outputs": [],
   "source": [
    "import pandas as pd\n",
    "import matplotlib.pyplot as plt\n",
    "%matplotlib inline\n",
    "import seaborn as sns\n",
    "\n",
    "import matplotlib as mpl\n",
    "from cycler import cycler\n",
    "\n",
    "import numpy as np\n",
    "import os as os\n",
    "import time\n",
    "import pprint\n",
    "import sys\n",
    "import re\n",
    "import json\n",
    "import itertools\n",
    "import datetime as dt\n",
    "import scipy.stats as stats\n",
    "import scipy\n",
    "\n",
    "\n",
    "import pandas_datareader.data as web\n",
    "\n",
    "# security\n",
    "from dotenv import load_dotenv"
   ]
  },
  {
   "cell_type": "markdown",
   "id": "50d01fcd-b5a0-4083-8b3e-43a6b0882995",
   "metadata": {
    "tags": []
   },
   "source": [
    "<h1>Set up</h1>"
   ]
  },
  {
   "cell_type": "code",
   "execution_count": 2,
   "id": "ca33f389-c025-4d8b-b9f9-d70aa8393b31",
   "metadata": {},
   "outputs": [
    {
     "name": "stdout",
     "output_type": "stream",
     "text": [
      "C:\\Users\\gamarandor\\data_science\\data_science_projects\\data_camp_projects\\Analyzing Marketing_Campaigns_with_pandas\n"
     ]
    }
   ],
   "source": [
    "cwd=os.getcwd()\n",
    "print(cwd)"
   ]
  },
  {
   "cell_type": "markdown",
   "id": "ee904404-4bec-473b-a453-c71d8151ea3b",
   "metadata": {},
   "source": [
    "<p>Requirement files</p>"
   ]
  },
  {
   "cell_type": "code",
   "execution_count": 3,
   "id": "89e26567-9efe-4032-ba9f-c276856fa2a3",
   "metadata": {},
   "outputs": [],
   "source": [
    "!conda list > txt/requirements_conda.txt"
   ]
  },
  {
   "cell_type": "code",
   "execution_count": 4,
   "id": "1c3695be-997a-4e5e-adc4-d386d440cd90",
   "metadata": {},
   "outputs": [],
   "source": [
    "!pip freeze > txt/requirements_pip.txt"
   ]
  },
  {
   "cell_type": "markdown",
   "id": "97273045-bb62-4afd-9aa2-f57e6876ad7e",
   "metadata": {},
   "source": [
    "<h1>Import data</h1>"
   ]
  },
  {
   "cell_type": "code",
   "execution_count": 5,
   "id": "feafa20a-cd5b-4c33-94d9-bcb1efb91b3c",
   "metadata": {},
   "outputs": [],
   "source": [
    "# Import pandas into the environment\n",
    "import pandas as pd\n",
    "\n",
    "# Import marketing.csv \n",
    "marketing = pd.read_csv(r'data/marketing.csv')"
   ]
  },
  {
   "cell_type": "markdown",
   "id": "e0fc8407-dc0e-417c-aa21-01d213229b86",
   "metadata": {},
   "source": [
    "<h1>Inspecting the data</h1>"
   ]
  },
  {
   "cell_type": "code",
   "execution_count": 6,
   "id": "e7e10213-34cd-49dd-a56f-0e4c1300d111",
   "metadata": {},
   "outputs": [
    {
     "name": "stdout",
     "output_type": "stream",
     "text": [
      "[['a100000029' '1/1/18' 'House Ads' 'personalization' True 'English'\n",
      "  'English' '0-18 years' '1/1/18' nan 'House Ads' True]\n",
      " ['a100000030' '1/1/18' 'House Ads' 'personalization' True 'English'\n",
      "  'English' '19-24 years' '1/1/18' nan 'House Ads' True]]\n"
     ]
    }
   ],
   "source": [
    "print(marketing.values[:2])"
   ]
  },
  {
   "cell_type": "code",
   "execution_count": 7,
   "id": "0644a2d6-8b00-4ba1-bd05-7d38e55eb2cc",
   "metadata": {},
   "outputs": [
    {
     "name": "stdout",
     "output_type": "stream",
     "text": [
      "['user_id', 'date_served', 'marketing_channel', 'variant', 'converted', 'language_displayed', 'language_preferred', 'age_group', 'date_subscribed', 'date_canceled', 'subscribing_channel', 'is_retained']\n"
     ]
    }
   ],
   "source": [
    "print(marketing.columns.tolist())"
   ]
  },
  {
   "cell_type": "code",
   "execution_count": 8,
   "id": "8f3f0f47-011e-4f39-abbb-4b4647e5a822",
   "metadata": {},
   "outputs": [
    {
     "name": "stdout",
     "output_type": "stream",
     "text": [
      "[44, 45, 46, 47, 48, 49, 50]\n"
     ]
    }
   ],
   "source": [
    "print(marketing.index.tolist()[44:51])"
   ]
  },
  {
   "cell_type": "code",
   "execution_count": 9,
   "id": "91764513-9ba0-4f09-9e66-597355df01c8",
   "metadata": {},
   "outputs": [
    {
     "name": "stdout",
     "output_type": "stream",
     "text": [
      "(5, 12)\n",
      "------------------------------------------------------------------------------\n",
      "      user_id date_served marketing_channel          variant converted\n",
      "0  a100000029      1/1/18         House Ads  personalization      True\n",
      "1  a100000030      1/1/18         House Ads  personalization      True\n",
      "2  a100000031      1/1/18         House Ads  personalization      True\n",
      "3  a100000032      1/1/18         House Ads  personalization      True\n",
      "4  a100000033      1/1/18         House Ads  personalization      True\n",
      "------------------------------------------------------------------------------\n",
      "  language_preferred    age_group date_subscribed date_canceled\n",
      "0            English   0-18 years          1/1/18           NaN\n",
      "1            English  19-24 years          1/1/18           NaN\n",
      "2            English  24-30 years          1/1/18           NaN\n",
      "3            English  30-36 years          1/1/18           NaN\n",
      "4            English  36-45 years          1/1/18           NaN\n",
      "------------------------------------------------------------------------------\n",
      "  is_retained\n",
      "0        True\n",
      "1        True\n",
      "2        True\n",
      "3        True\n",
      "4        True\n"
     ]
    }
   ],
   "source": [
    "print(marketing.head().shape)\n",
    "print('------------------------------------------------------------------------------')\n",
    "\n",
    "print(marketing.head().iloc[:, 0:5])\n",
    "print('------------------------------------------------------------------------------')\n",
    "\n",
    "print(marketing.head().iloc[:, 6:10])\n",
    "print('------------------------------------------------------------------------------')\n",
    "\n",
    "print(marketing.head().iloc[:, 11:12])"
   ]
  },
  {
   "cell_type": "code",
   "execution_count": 10,
   "id": "22480a11-54be-435d-b3c6-fbafbff977f5",
   "metadata": {},
   "outputs": [
    {
     "name": "stdout",
     "output_type": "stream",
     "text": [
      "<class 'pandas.core.frame.DataFrame'>\n",
      "RangeIndex: 10037 entries, 0 to 10036\n",
      "Data columns (total 12 columns):\n",
      " #   Column               Non-Null Count  Dtype \n",
      "---  ------               --------------  ----- \n",
      " 0   user_id              10037 non-null  object\n",
      " 1   date_served          10021 non-null  object\n",
      " 2   marketing_channel    10022 non-null  object\n",
      " 3   variant              10037 non-null  object\n",
      " 4   converted            10022 non-null  object\n",
      " 5   language_displayed   10037 non-null  object\n",
      " 6   language_preferred   10037 non-null  object\n",
      " 7   age_group            10037 non-null  object\n",
      " 8   date_subscribed      1856 non-null   object\n",
      " 9   date_canceled        577 non-null    object\n",
      " 10  subscribing_channel  1856 non-null   object\n",
      " 11  is_retained          1856 non-null   object\n",
      "dtypes: object(12)\n",
      "memory usage: 941.1+ KB\n",
      "None\n"
     ]
    }
   ],
   "source": [
    "print(marketing.info())"
   ]
  },
  {
   "cell_type": "code",
   "execution_count": 11,
   "id": "34ab8f89-942c-4748-9474-6ad5b0668f91",
   "metadata": {},
   "outputs": [
    {
     "name": "stdout",
     "output_type": "stream",
     "text": [
      "(10037, 12)\n"
     ]
    }
   ],
   "source": [
    "print(marketing.shape)"
   ]
  },
  {
   "cell_type": "code",
   "execution_count": 12,
   "id": "eaca23da-4110-44dc-bc22-5bbfc156b337",
   "metadata": {},
   "outputs": [
    {
     "name": "stdout",
     "output_type": "stream",
     "text": [
      "<class 'pandas.core.frame.DataFrame'>\n",
      "RangeIndex: 10037 entries, 0 to 10036\n",
      "Empty DataFrame\n"
     ]
    }
   ],
   "source": [
    "numeric_cols = marketing.select_dtypes(include='number')\n",
    "numeric_cols.info()"
   ]
  },
  {
   "cell_type": "code",
   "execution_count": 13,
   "id": "93974fed-e5bc-4579-acd6-b989a49b8072",
   "metadata": {},
   "outputs": [
    {
     "name": "stdout",
     "output_type": "stream",
     "text": [
      "<class 'pandas.core.frame.DataFrame'>\n",
      "RangeIndex: 10037 entries, 0 to 10036\n",
      "Data columns (total 12 columns):\n",
      " #   Column               Non-Null Count  Dtype \n",
      "---  ------               --------------  ----- \n",
      " 0   user_id              10037 non-null  object\n",
      " 1   date_served          10021 non-null  object\n",
      " 2   marketing_channel    10022 non-null  object\n",
      " 3   variant              10037 non-null  object\n",
      " 4   converted            10022 non-null  object\n",
      " 5   language_displayed   10037 non-null  object\n",
      " 6   language_preferred   10037 non-null  object\n",
      " 7   age_group            10037 non-null  object\n",
      " 8   date_subscribed      1856 non-null   object\n",
      " 9   date_canceled        577 non-null    object\n",
      " 10  subscribing_channel  1856 non-null   object\n",
      " 11  is_retained          1856 non-null   object\n",
      "dtypes: object(12)\n",
      "memory usage: 941.1+ KB\n"
     ]
    }
   ],
   "source": [
    "numeric_cols = marketing.select_dtypes(exclude='number')\n",
    "numeric_cols.info()"
   ]
  },
  {
   "cell_type": "code",
   "execution_count": 14,
   "id": "71fa48e8-289a-4f5b-a338-a123bab9f1e6",
   "metadata": {},
   "outputs": [
    {
     "name": "stdout",
     "output_type": "stream",
     "text": [
      "4\n",
      "(4, 12)\n",
      "------------------------------------------------------------------------------\n",
      "           user_id date_served marketing_channel  variant\n",
      "count        10037       10021             10022    10037\n",
      "unique        7309          31                 5        2\n",
      "top     a100000882     1/15/18         House Ads  control\n",
      "freq            12         789              4733     5091\n",
      "------------------------------------------------------------------------------\n",
      "       converted language_displayed language_preferred    age_group\n",
      "count      10022              10037              10037        10037\n",
      "unique         2                  4                  4            7\n",
      "top        False            English            English  19-24 years\n",
      "freq        8946               9793               9275         1682\n",
      "------------------------------------------------------------------------------\n",
      "       date_canceled subscribing_channel is_retained\n",
      "count            577                1856        1856\n",
      "unique           115                   5           2\n",
      "top           4/2/18           Instagram        True\n",
      "freq              15                 600        1279\n"
     ]
    }
   ],
   "source": [
    "print(len(marketing.describe()))\n",
    "print(marketing.describe().shape)\n",
    "print('------------------------------------------------------------------------------')\n",
    "\n",
    "print(marketing.describe().iloc[:, 0:4])\n",
    "print('------------------------------------------------------------------------------')\n",
    "print(marketing.describe().iloc[:, 4:8])\n",
    "print('------------------------------------------------------------------------------')\n",
    "print(marketing.describe().iloc[:, 9:12])"
   ]
  },
  {
   "cell_type": "code",
   "execution_count": 15,
   "id": "bf8e3dcc-9082-4a01-87e8-830b59db1736",
   "metadata": {},
   "outputs": [
    {
     "name": "stdout",
     "output_type": "stream",
     "text": [
      "[['a100000029' '1/1/18' 'House Ads' 'personalization' True 'English'\n",
      "  'English' '0-18 years' '1/1/18' nan 'House Ads' True]\n",
      " ['a100000030' '1/1/18' 'House Ads' 'personalization' True 'English'\n",
      "  'English' '19-24 years' '1/1/18' nan 'House Ads' True]]\n"
     ]
    }
   ],
   "source": [
    "print(marketing.values[:2])"
   ]
  },
  {
   "cell_type": "code",
   "execution_count": 16,
   "id": "22510e91-a80c-46a5-bd6a-fb8a30e06f46",
   "metadata": {},
   "outputs": [
    {
     "name": "stdout",
     "output_type": "stream",
     "text": [
      "<class 'pandas.core.indexes.range.RangeIndex'>\n",
      "[0, 1, 2, 3]\n"
     ]
    }
   ],
   "source": [
    "print(type(marketing.index))\n",
    "print(marketing.index.tolist()[:4])"
   ]
  },
  {
   "cell_type": "markdown",
   "id": "b52dfc76-1892-4602-bb08-ee5b9bb241c7",
   "metadata": {},
   "source": [
    "<h3>Missing values?</h3>"
   ]
  },
  {
   "cell_type": "code",
   "execution_count": 17,
   "id": "0864b936-7f6b-46b2-8cc9-1b04011527d6",
   "metadata": {},
   "outputs": [
    {
     "data": {
      "text/plain": [
       "date_canceled          9460\n",
       "date_subscribed        8181\n",
       "subscribing_channel    8181\n",
       "is_retained            8181\n",
       "date_served              16\n",
       "marketing_channel        15\n",
       "converted                15\n",
       "user_id                   0\n",
       "variant                   0\n",
       "language_displayed        0\n",
       "language_preferred        0\n",
       "age_group                 0\n",
       "dtype: int64"
      ]
     },
     "execution_count": 17,
     "metadata": {},
     "output_type": "execute_result"
    }
   ],
   "source": [
    "marketing.isna().sum().sort_values(ascending=False)"
   ]
  },
  {
   "cell_type": "markdown",
   "id": "16e0045b-ac8e-4e8e-8739-62ed80c539b4",
   "metadata": {},
   "source": [
    "<h3>Particular columns!</h3>\n",
    "<p>\n",
    "User-id below n-rows?\n",
    "</p>"
   ]
  },
  {
   "cell_type": "code",
   "execution_count": 18,
   "id": "e7210ba8-7db6-42ee-a157-43124b110ec0",
   "metadata": {},
   "outputs": [
    {
     "name": "stdout",
     "output_type": "stream",
     "text": [
      "<class 'numpy.ndarray'>\n",
      "7309\n",
      "7309\n",
      "(10037,)\n"
     ]
    }
   ],
   "source": [
    "print(type(marketing['user_id'].unique()))\n",
    "print(marketing['user_id'].unique().size)\n",
    "print(len(marketing['user_id'].unique()))\n",
    "print(marketing['user_id'].shape)"
   ]
  },
  {
   "cell_type": "code",
   "execution_count": 19,
   "id": "fb816ae3-ba48-49b5-a287-213d69a0b937",
   "metadata": {},
   "outputs": [
    {
     "data": {
      "text/plain": [
       "marketing_channel\n",
       "House Ads    4733\n",
       "Instagram    1871\n",
       "Facebook     1860\n",
       "Push          993\n",
       "Email         565\n",
       "Name: count, dtype: int64"
      ]
     },
     "execution_count": 19,
     "metadata": {},
     "output_type": "execute_result"
    }
   ],
   "source": [
    "marketing['marketing_channel'].value_counts()"
   ]
  },
  {
   "cell_type": "markdown",
   "id": "14189c61-f066-4c3b-bebf-7a6fbcd9a6ca",
   "metadata": {},
   "source": [
    "<h1>Cleaning the data</h1>"
   ]
  },
  {
   "cell_type": "markdown",
   "id": "6279effd-f311-4f62-884e-ba6860fe169c",
   "metadata": {
    "tags": []
   },
   "source": [
    "<h3>Date variables</h3>\n",
    "\n",
    "<p>\n",
    "Turning variables into datetime obj\n",
    "</p>"
   ]
  },
  {
   "cell_type": "code",
   "execution_count": 20,
   "id": "f72024c6-79ea-4b89-828e-13737c634dd1",
   "metadata": {},
   "outputs": [
    {
     "data": {
      "text/html": [
       "<div>\n",
       "<style scoped>\n",
       "    .dataframe tbody tr th:only-of-type {\n",
       "        vertical-align: middle;\n",
       "    }\n",
       "\n",
       "    .dataframe tbody tr th {\n",
       "        vertical-align: top;\n",
       "    }\n",
       "\n",
       "    .dataframe thead th {\n",
       "        text-align: right;\n",
       "    }\n",
       "</style>\n",
       "<table border=\"1\" class=\"dataframe\">\n",
       "  <thead>\n",
       "    <tr style=\"text-align: right;\">\n",
       "      <th></th>\n",
       "      <th>date_subscribed</th>\n",
       "      <th>date_canceled</th>\n",
       "      <th>date_served</th>\n",
       "    </tr>\n",
       "  </thead>\n",
       "  <tbody>\n",
       "    <tr>\n",
       "      <th>0</th>\n",
       "      <td>1/1/18</td>\n",
       "      <td>NaN</td>\n",
       "      <td>1/1/18</td>\n",
       "    </tr>\n",
       "    <tr>\n",
       "      <th>1</th>\n",
       "      <td>1/1/18</td>\n",
       "      <td>NaN</td>\n",
       "      <td>1/1/18</td>\n",
       "    </tr>\n",
       "    <tr>\n",
       "      <th>2</th>\n",
       "      <td>1/1/18</td>\n",
       "      <td>NaN</td>\n",
       "      <td>1/1/18</td>\n",
       "    </tr>\n",
       "    <tr>\n",
       "      <th>3</th>\n",
       "      <td>1/1/18</td>\n",
       "      <td>NaN</td>\n",
       "      <td>1/1/18</td>\n",
       "    </tr>\n",
       "    <tr>\n",
       "      <th>4</th>\n",
       "      <td>1/1/18</td>\n",
       "      <td>NaN</td>\n",
       "      <td>1/1/18</td>\n",
       "    </tr>\n",
       "  </tbody>\n",
       "</table>\n",
       "</div>"
      ],
      "text/plain": [
       "  date_subscribed date_canceled date_served\n",
       "0          1/1/18           NaN      1/1/18\n",
       "1          1/1/18           NaN      1/1/18\n",
       "2          1/1/18           NaN      1/1/18\n",
       "3          1/1/18           NaN      1/1/18\n",
       "4          1/1/18           NaN      1/1/18"
      ]
     },
     "execution_count": 20,
     "metadata": {},
     "output_type": "execute_result"
    }
   ],
   "source": [
    "marketing[['date_subscribed', 'date_canceled', 'date_served']].head()"
   ]
  },
  {
   "cell_type": "code",
   "execution_count": 21,
   "id": "5a56ffb0-f39d-40c3-bc93-736ef248e214",
   "metadata": {},
   "outputs": [],
   "source": [
    "# \"%d/%m/%Y\"\n",
    "# date_format='%Y-%m-%d'\n",
    "marketing['date_subscribed'] = pd.to_datetime(marketing['date_subscribed'], format=\"mixed\")"
   ]
  },
  {
   "cell_type": "code",
   "execution_count": 22,
   "id": "6b595323-f610-4550-ba66-cca6cbb7f28c",
   "metadata": {},
   "outputs": [],
   "source": [
    "marketing['date_canceled'] = pd.to_datetime(marketing['date_canceled'], format=\"mixed\")"
   ]
  },
  {
   "cell_type": "code",
   "execution_count": 23,
   "id": "2642a5cc-6c10-41c5-b9b5-3de552093d51",
   "metadata": {},
   "outputs": [],
   "source": [
    "marketing['date_served'] = pd.to_datetime(marketing['date_served'] , format=\"mixed\")"
   ]
  },
  {
   "cell_type": "code",
   "execution_count": 24,
   "id": "55763368-fc90-4391-8cbd-eff7011609af",
   "metadata": {},
   "outputs": [
    {
     "name": "stdout",
     "output_type": "stream",
     "text": [
      "<class 'pandas.core.frame.DataFrame'>\n",
      "RangeIndex: 10037 entries, 0 to 10036\n",
      "Data columns (total 12 columns):\n",
      " #   Column               Non-Null Count  Dtype         \n",
      "---  ------               --------------  -----         \n",
      " 0   user_id              10037 non-null  object        \n",
      " 1   date_served          10021 non-null  datetime64[ns]\n",
      " 2   marketing_channel    10022 non-null  object        \n",
      " 3   variant              10037 non-null  object        \n",
      " 4   converted            10022 non-null  object        \n",
      " 5   language_displayed   10037 non-null  object        \n",
      " 6   language_preferred   10037 non-null  object        \n",
      " 7   age_group            10037 non-null  object        \n",
      " 8   date_subscribed      1856 non-null   datetime64[ns]\n",
      " 9   date_canceled        577 non-null    datetime64[ns]\n",
      " 10  subscribing_channel  1856 non-null   object        \n",
      " 11  is_retained          1856 non-null   object        \n",
      "dtypes: datetime64[ns](3), object(9)\n",
      "memory usage: 941.1+ KB\n",
      "None\n"
     ]
    }
   ],
   "source": [
    "print(marketing.info())"
   ]
  },
  {
   "cell_type": "code",
   "execution_count": 25,
   "id": "7a40a393-7202-4248-bc74-949172485aba",
   "metadata": {},
   "outputs": [
    {
     "data": {
      "text/html": [
       "<div>\n",
       "<style scoped>\n",
       "    .dataframe tbody tr th:only-of-type {\n",
       "        vertical-align: middle;\n",
       "    }\n",
       "\n",
       "    .dataframe tbody tr th {\n",
       "        vertical-align: top;\n",
       "    }\n",
       "\n",
       "    .dataframe thead th {\n",
       "        text-align: right;\n",
       "    }\n",
       "</style>\n",
       "<table border=\"1\" class=\"dataframe\">\n",
       "  <thead>\n",
       "    <tr style=\"text-align: right;\">\n",
       "      <th></th>\n",
       "      <th>date_subscribed</th>\n",
       "      <th>date_canceled</th>\n",
       "      <th>date_served</th>\n",
       "    </tr>\n",
       "  </thead>\n",
       "  <tbody>\n",
       "    <tr>\n",
       "      <th>0</th>\n",
       "      <td>2018-01-01</td>\n",
       "      <td>NaT</td>\n",
       "      <td>2018-01-01</td>\n",
       "    </tr>\n",
       "    <tr>\n",
       "      <th>1</th>\n",
       "      <td>2018-01-01</td>\n",
       "      <td>NaT</td>\n",
       "      <td>2018-01-01</td>\n",
       "    </tr>\n",
       "    <tr>\n",
       "      <th>2</th>\n",
       "      <td>2018-01-01</td>\n",
       "      <td>NaT</td>\n",
       "      <td>2018-01-01</td>\n",
       "    </tr>\n",
       "  </tbody>\n",
       "</table>\n",
       "</div>"
      ],
      "text/plain": [
       "  date_subscribed date_canceled date_served\n",
       "0      2018-01-01           NaT  2018-01-01\n",
       "1      2018-01-01           NaT  2018-01-01\n",
       "2      2018-01-01           NaT  2018-01-01"
      ]
     },
     "execution_count": 25,
     "metadata": {},
     "output_type": "execute_result"
    }
   ],
   "source": [
    "marketing[['date_subscribed', 'date_canceled', 'date_served']].head(3)"
   ]
  },
  {
   "cell_type": "markdown",
   "id": "eb0e1ee2-53cf-4205-a0ab-16d115fe7474",
   "metadata": {},
   "source": [
    "<p>Using the date attributes.</p>"
   ]
  },
  {
   "cell_type": "code",
   "execution_count": 26,
   "id": "480dbf64-890d-4eb4-af00-1c4e21df31a0",
   "metadata": {},
   "outputs": [
    {
     "name": "stdout",
     "output_type": "stream",
     "text": [
      "  date_subscribed    year  month  quarter  day  dayofweek  hour\n",
      "0      2018-01-01  2018.0    1.0      1.0  1.0        0.0   0.0\n",
      "1      2018-01-01  2018.0    1.0      1.0  1.0        0.0   0.0\n",
      "2      2018-01-01  2018.0    1.0      1.0  1.0        0.0   0.0\n",
      "3      2018-01-01  2018.0    1.0      1.0  1.0        0.0   0.0\n",
      "4      2018-01-01  2018.0    1.0      1.0  1.0        0.0   0.0\n",
      "------------------------------------------------------------------------------\n",
      "      date_subscribed    year  month  quarter   day  dayofweek  hour\n",
      "10032      2018-01-17  2018.0    1.0      1.0  17.0        2.0   0.0\n",
      "10033      2018-01-17  2018.0    1.0      1.0  17.0        2.0   0.0\n",
      "10034      2018-01-17  2018.0    1.0      1.0  17.0        2.0   0.0\n",
      "10035      2018-01-17  2018.0    1.0      1.0  17.0        2.0   0.0\n",
      "10036      2018-01-17  2018.0    1.0      1.0  17.0        2.0   0.0\n"
     ]
    }
   ],
   "source": [
    "df_date_subscribed = pd.DataFrame()\n",
    "\n",
    "df_date_subscribed['date_subscribed'] = marketing['date_subscribed']\n",
    "df_date_subscribed['year'] = marketing['date_subscribed'].dt.year\n",
    "df_date_subscribed['month'] = marketing['date_subscribed'].dt.month\n",
    "df_date_subscribed['quarter'] = marketing['date_subscribed'].dt.quarter\n",
    "df_date_subscribed['day'] = marketing['date_subscribed'].dt.day\n",
    "df_date_subscribed['dayofweek'] = marketing['date_subscribed'].dt.dayofweek\n",
    "df_date_subscribed['hour'] = marketing['date_subscribed'].dt.hour\n",
    "\n",
    "print(df_date_subscribed.head())\n",
    "print('------------------------------------------------------------------------------')\n",
    "print(df_date_subscribed.tail())"
   ]
  },
  {
   "cell_type": "code",
   "execution_count": 27,
   "id": "a59ea534-e1d3-4a1d-9b23-52bb0053b183",
   "metadata": {},
   "outputs": [],
   "source": [
    "# Add a DoW column\n",
    "marketing['DoW'] = marketing['date_subscribed'].dt.dayofweek"
   ]
  },
  {
   "cell_type": "markdown",
   "id": "d07c4ad5-0a90-454f-8d3a-34f38b612664",
   "metadata": {},
   "source": [
    "<p>\n",
    "Alternatively change to date type with read_csv.\n",
    "</p>"
   ]
  },
  {
   "cell_type": "code",
   "execution_count": 28,
   "id": "ac44a2c2-1343-40a3-a493-4ef6230816ca",
   "metadata": {},
   "outputs": [
    {
     "name": "stdout",
     "output_type": "stream",
     "text": [
      "date_served        datetime64[ns]\n",
      "date_subscribed    datetime64[ns]\n",
      "date_canceled      datetime64[ns]\n",
      "dtype: object\n"
     ]
    }
   ],
   "source": [
    "\n",
    "# Import marketing.csv with date columns\n",
    "marketing_2 = pd.read_csv(r'data/marketing.csv', parse_dates=\n",
    "['date_served', 'date_subscribed', 'date_canceled'], date_format=\"mixed\")\n",
    "\n",
    "print(marketing_2[['date_served', 'date_subscribed', 'date_canceled']].dtypes)\n",
    "# marketing_2.info()"
   ]
  },
  {
   "cell_type": "markdown",
   "id": "3f57ad51-beff-440b-b50e-35b55d917b53",
   "metadata": {},
   "source": [
    "<h3>Missing values</h3>"
   ]
  },
  {
   "cell_type": "code",
   "execution_count": 29,
   "id": "33ba841e-94b8-44be-a765-89ccfa3ef0c2",
   "metadata": {},
   "outputs": [
    {
     "name": "stdout",
     "output_type": "stream",
     "text": [
      "(10037, 13)\n",
      "------------------------------------------------------------------------------\n",
      "date_canceled          9460\n",
      "date_subscribed        8181\n",
      "subscribing_channel    8181\n",
      "is_retained            8181\n",
      "DoW                    8181\n",
      "date_served              16\n",
      "marketing_channel        15\n",
      "converted                15\n",
      "user_id                   0\n",
      "variant                   0\n",
      "language_displayed        0\n",
      "language_preferred        0\n",
      "age_group                 0\n",
      "dtype: int64\n"
     ]
    }
   ],
   "source": [
    "print(marketing.shape)\n",
    "print('------------------------------------------------------------------------------')\n",
    "print(marketing.isna().sum().sort_values(ascending=False))\n",
    "\n"
   ]
  },
  {
   "cell_type": "code",
   "execution_count": 30,
   "id": "62e7dc64-75e6-4ac5-a256-a6bbac82f774",
   "metadata": {},
   "outputs": [],
   "source": [
    "dropped_cols = \\\n",
    "marketing[['date_canceled', 'date_subscribed', 'DoW']]\n",
    "# print(dropped_cols.info())\n",
    "\n",
    "marketing = \\\n",
    "marketing.drop(labels = ['date_canceled', 'date_subscribed', 'DoW'],\n",
    "                axis=1)"
   ]
  },
  {
   "cell_type": "code",
   "execution_count": 31,
   "id": "690e7556-f155-4078-b481-789ff1c62a0a",
   "metadata": {},
   "outputs": [],
   "source": [
    "marketing['date_served'] = marketing['date_served'].ffill()"
   ]
  },
  {
   "cell_type": "code",
   "execution_count": 32,
   "id": "bf45f592-0bf0-42c6-a31d-cbe889b6c14f",
   "metadata": {},
   "outputs": [
    {
     "data": {
      "text/plain": [
       "marketing_channel\n",
       "House Ads    4733\n",
       "Instagram    1871\n",
       "Facebook     1860\n",
       "Push          993\n",
       "Email         565\n",
       "Name: count, dtype: int64"
      ]
     },
     "execution_count": 32,
     "metadata": {},
     "output_type": "execute_result"
    }
   ],
   "source": [
    "marketing.marketing_channel.value_counts()"
   ]
  },
  {
   "cell_type": "code",
   "execution_count": 33,
   "id": "bbccd8be-7108-4993-a990-8040409de031",
   "metadata": {},
   "outputs": [],
   "source": [
    "marketing.marketing_channel.fillna(value='House Ads', inplace=True)"
   ]
  },
  {
   "cell_type": "code",
   "execution_count": 34,
   "id": "9f344354-d319-4012-98cb-92534d645804",
   "metadata": {},
   "outputs": [
    {
     "name": "stdout",
     "output_type": "stream",
     "text": [
      "user_id                   0\n",
      "date_served               0\n",
      "marketing_channel         0\n",
      "variant                   0\n",
      "converted                15\n",
      "language_displayed        0\n",
      "language_preferred        0\n",
      "age_group                 0\n",
      "subscribing_channel    8181\n",
      "is_retained            8181\n",
      "dtype: int64\n"
     ]
    }
   ],
   "source": [
    "print(marketing.isna().sum())"
   ]
  },
  {
   "cell_type": "markdown",
   "id": "3edc0e3a-db66-4361-a452-815e5d782b19",
   "metadata": {},
   "source": [
    "<h2>Data preparation</h2>\n",
    "\n",
    "<h3>Adding new columns (Feature engineering)</h3>"
   ]
  },
  {
   "cell_type": "code",
   "execution_count": 35,
   "id": "5d8d7301-aa30-4eeb-b448-e8694e91b81f",
   "metadata": {},
   "outputs": [
    {
     "name": "stdout",
     "output_type": "stream",
     "text": [
      "bool\n",
      "------------------------------------------------------------------------------\n",
      "bool\n"
     ]
    }
   ],
   "source": [
    "marketing['converted'] =  marketing['converted'].astype('bool')\n",
    "print(marketing['converted'].dtype)\n",
    "\n",
    "print('------------------------------------------------------------------------------')\n",
    "\n",
    "# Convert is_retained to a boolean\n",
    "marketing['is_retained'] = marketing['is_retained'].astype('bool')\n",
    "\n",
    "# Check the data type of is_retained, again\n",
    "print(marketing['is_retained'].dtype)"
   ]
  },
  {
   "cell_type": "markdown",
   "id": "c8f780ba-7b94-4687-ad02-bd37b6d20aba",
   "metadata": {},
   "source": [
    "<p>\n",
    "Creating a new column House Ads.\n",
    "</p>"
   ]
  },
  {
   "cell_type": "code",
   "execution_count": 36,
   "id": "ee4ea5ca-9ac8-4e98-99f4-5d9c7ac8888f",
   "metadata": {},
   "outputs": [
    {
     "name": "stdout",
     "output_type": "stream",
     "text": [
      "  marketing_channel  HouseAds\n",
      "0         House Ads      True\n",
      "1         House Ads      True\n",
      "2         House Ads      True\n",
      "3         House Ads      True\n",
      "4         House Ads      True\n"
     ]
    }
   ],
   "source": [
    "marketing['HouseAds'] = np.where(marketing['marketing_channel'] == 'House Ads', True, False)\n",
    "mc_ha = marketing[['marketing_channel', 'HouseAds']] \n",
    "print(mc_ha.head())"
   ]
  },
  {
   "cell_type": "markdown",
   "id": "ee38c8eb-721c-42dd-a846-27af28d8b270",
   "metadata": {},
   "source": [
    "<p>\n",
    "Encoding marketing channels.\n",
    "</p>"
   ]
  },
  {
   "cell_type": "code",
   "execution_count": 37,
   "id": "c0520294-0ecd-42c5-8df2-02dfea9c9fda",
   "metadata": {},
   "outputs": [
    {
     "name": "stdout",
     "output_type": "stream",
     "text": [
      "  marketing_channel  marketing_channel_coded\n",
      "0         House Ads                        1\n",
      "1         House Ads                        1\n",
      "2         House Ads                        1\n",
      "3         House Ads                        1\n",
      "4         House Ads                        1\n"
     ]
    }
   ],
   "source": [
    "mc_unique_list = marketing['marketing_channel'].unique().tolist()\n",
    "\n",
    "map_mc_to_n = {'House Ads': 1, 'Push': 2, 'Facebook': 3, 'Instagram': 4, 'Email': 5}\n",
    "\n",
    "marketing['marketing_channel_coded'] = \\\n",
    "marketing ['marketing_channel'].map(map_mc_to_n)\n",
    "\n",
    "print(marketing[['marketing_channel', 'marketing_channel_coded']].head())"
   ]
  },
  {
   "cell_type": "code",
   "execution_count": 38,
   "id": "364a68df-7155-4913-b278-fe4b8dbd9d00",
   "metadata": {},
   "outputs": [
    {
     "name": "stdout",
     "output_type": "stream",
     "text": [
      "is_correct_lang\n",
      "Yes    9515\n",
      "No      522\n",
      "Name: count, dtype: int64\n"
     ]
    }
   ],
   "source": [
    "# Mapping for channels\n",
    "channel_dict = {\"House Ads\": 1, \"Instagram\": 2, \n",
    "                \"Facebook\": 3, \"Email\": 4, \"Push\": 5}\n",
    "\n",
    "# Map the channel to a channel code\n",
    "marketing['channel_code'] = marketing['subscribing_channel'].map(channel_dict)\n",
    "\n",
    "# Import numpy\n",
    "import numpy as np\n",
    "\n",
    "# Add the new column is_correct_lang\n",
    "marketing['is_correct_lang'] = \\\n",
    "np.where(marketing['language_preferred']==marketing['language_displayed'],\n",
    "'Yes', 'No')\n",
    "\n",
    "\n",
    "print(marketing['is_correct_lang'].value_counts())"
   ]
  },
  {
   "cell_type": "code",
   "execution_count": 39,
   "id": "c6e7ed0f-435d-47c0-8beb-3151121a8347",
   "metadata": {},
   "outputs": [
    {
     "name": "stdout",
     "output_type": "stream",
     "text": [
      "<class 'pandas.core.frame.DataFrame'>\n",
      "RangeIndex: 10037 entries, 0 to 10036\n",
      "Data columns (total 14 columns):\n",
      " #   Column                   Non-Null Count  Dtype         \n",
      "---  ------                   --------------  -----         \n",
      " 0   user_id                  10037 non-null  object        \n",
      " 1   date_served              10037 non-null  datetime64[ns]\n",
      " 2   marketing_channel        10037 non-null  object        \n",
      " 3   variant                  10037 non-null  object        \n",
      " 4   converted                10037 non-null  bool          \n",
      " 5   language_displayed       10037 non-null  object        \n",
      " 6   language_preferred       10037 non-null  object        \n",
      " 7   age_group                10037 non-null  object        \n",
      " 8   subscribing_channel      1856 non-null   object        \n",
      " 9   is_retained              10037 non-null  bool          \n",
      " 10  HouseAds                 10037 non-null  bool          \n",
      " 11  marketing_channel_coded  10037 non-null  int64         \n",
      " 12  channel_code             1856 non-null   float64       \n",
      " 13  is_correct_lang          10037 non-null  object        \n",
      "dtypes: bool(3), datetime64[ns](1), float64(1), int64(1), object(8)\n",
      "memory usage: 892.1+ KB\n"
     ]
    }
   ],
   "source": [
    "marketing.info()"
   ]
  },
  {
   "cell_type": "code",
   "execution_count": 40,
   "id": "040b485c-9d87-4e6e-a402-79aa5c599b67",
   "metadata": {},
   "outputs": [],
   "source": [
    "# .drop(['unnamed 0'],axis=1)\n",
    "# '%Y-%m-%d'\n",
    "\n",
    "marketing_to_csv = marketing.reset_index(drop=True)  # Reset and drop the old index\n",
    "# print(marketing_to_csv.info())\n",
    "marketing_to_csv.to_csv('data/marketing_data_cleaned.csv', date_format='%Y-%m-%d')\n"
   ]
  }
 ],
 "metadata": {
  "kernelspec": {
   "display_name": "Python [conda env:data_analytics]",
   "language": "python",
   "name": "conda-env-data_analytics-py"
  },
  "language_info": {
   "codemirror_mode": {
    "name": "ipython",
    "version": 3
   },
   "file_extension": ".py",
   "mimetype": "text/x-python",
   "name": "python",
   "nbconvert_exporter": "python",
   "pygments_lexer": "ipython3",
   "version": "3.10.13"
  }
 },
 "nbformat": 4,
 "nbformat_minor": 5
}
