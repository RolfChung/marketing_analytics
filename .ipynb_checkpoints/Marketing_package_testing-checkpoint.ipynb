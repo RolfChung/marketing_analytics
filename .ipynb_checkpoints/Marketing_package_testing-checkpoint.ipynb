{
 "cells": [
  {
   "cell_type": "markdown",
   "id": "1239450b-5850-4ae6-b208-b781a1b0b0bd",
   "metadata": {},
   "source": [
    "<h1>Summary</h1>"
   ]
  },
  {
   "cell_type": "code",
   "execution_count": 10,
   "id": "990ef328-06e0-4aa8-a777-379c51f29b89",
   "metadata": {},
   "outputs": [],
   "source": [
    "import package\n",
    "import package.funcs\n",
    "from package import funcs"
   ]
  },
  {
   "cell_type": "code",
   "execution_count": 11,
   "id": "8645abe5-5204-4f14-8538-717d42b6de44",
   "metadata": {},
   "outputs": [
    {
     "name": "stdout",
     "output_type": "stream",
     "text": [
      "Hello\n"
     ]
    }
   ],
   "source": [
    "funcs.test()"
   ]
  },
  {
   "cell_type": "code",
   "execution_count": 12,
   "id": "20edffeb-1917-4016-a9a3-89d8dcd8d7c1",
   "metadata": {},
   "outputs": [
    {
     "data": {
      "text/plain": [
       "3"
      ]
     },
     "execution_count": 12,
     "metadata": {},
     "output_type": "execute_result"
    }
   ],
   "source": [
    "package.funcs.add(1,2)"
   ]
  },
  {
   "cell_type": "code",
   "execution_count": 13,
   "id": "7a5f38fe-77c8-4adf-89bf-8ea0b9d090ce",
   "metadata": {},
   "outputs": [
    {
     "data": {
      "text/plain": [
       "4"
      ]
     },
     "execution_count": 13,
     "metadata": {},
     "output_type": "execute_result"
    }
   ],
   "source": [
    "funcs.add(1,3)"
   ]
  },
  {
   "cell_type": "markdown",
   "id": "6d993b32-9d8d-456e-bbeb-ed9ab383ba85",
   "metadata": {},
   "source": [
    "<h1>Import packages</h1>"
   ]
  },
  {
   "cell_type": "code",
   "execution_count": null,
   "id": "2f51bae0-a84c-467e-a223-97b7b82a453e",
   "metadata": {},
   "outputs": [],
   "source": [
    "# import pandas as pd\n",
    "import matplotlib.pyplot as plt\n",
    "%matplotlib inline\n",
    "import seaborn as sns\n",
    "\n",
    "import matplotlib as mpl\n",
    "from cycler import cycler\n",
    "\n",
    "import numpy as np\n",
    "import os as os\n",
    "import time\n",
    "import pprint\n",
    "import sys\n",
    "import re\n",
    "import json\n",
    "import itertools\n",
    "import datetime as dt\n",
    "import scipy.stats as stats\n",
    "import scipy\n",
    "\n",
    "\n",
    "import pandas_datareader.data as web\n",
    "\n",
    "# security\n",
    "from dotenv import load_dotenv"
   ]
  },
  {
   "cell_type": "markdown",
   "id": "50d01fcd-b5a0-4083-8b3e-43a6b0882995",
   "metadata": {},
   "source": [
    "<h1>Set up</h1>"
   ]
  },
  {
   "cell_type": "code",
   "execution_count": null,
   "id": "ca33f389-c025-4d8b-b9f9-d70aa8393b31",
   "metadata": {},
   "outputs": [],
   "source": [
    "cwd=os.getcwd()\n",
    "print(cwd)"
   ]
  },
  {
   "cell_type": "markdown",
   "id": "ee904404-4bec-473b-a453-c71d8151ea3b",
   "metadata": {},
   "source": [
    "<p>Requirement files</p>"
   ]
  },
  {
   "cell_type": "code",
   "execution_count": null,
   "id": "89e26567-9efe-4032-ba9f-c276856fa2a3",
   "metadata": {},
   "outputs": [],
   "source": [
    "!conda list > txt/requirements_conda.txt"
   ]
  },
  {
   "cell_type": "code",
   "execution_count": null,
   "id": "1c3695be-997a-4e5e-adc4-d386d440cd90",
   "metadata": {},
   "outputs": [],
   "source": [
    "!pip freeze > txt/requirements_pip.txt"
   ]
  },
  {
   "cell_type": "markdown",
   "id": "97273045-bb62-4afd-9aa2-f57e6876ad7e",
   "metadata": {},
   "source": [
    "<h1>Import data</h1>"
   ]
  },
  {
   "cell_type": "code",
   "execution_count": null,
   "id": "feafa20a-cd5b-4c33-94d9-bcb1efb91b3c",
   "metadata": {},
   "outputs": [],
   "source": [
    "\n",
    "# Assuming missing values are represented by 'NA'\n",
    "marketing = pd.read_csv(r'data/marketing_data_cleaned.csv',\n",
    "                        parse_dates=True, \n",
    "                        date_format='%Y-%m-%d',\n",
    "                        na_values=['NA'])  # Coerce invalid parsing to NaT\n",
    "\n",
    "\n",
    "# marketing.index.rename('Index')"
   ]
  },
  {
   "cell_type": "code",
   "execution_count": null,
   "id": "e0d5cf1f-fcc1-4119-9017-6bba33b0408a",
   "metadata": {},
   "outputs": [],
   "source": [
    "print(type(marketing.index))"
   ]
  },
  {
   "cell_type": "code",
   "execution_count": null,
   "id": "06d1b832-61b6-401c-8e23-02b83a69d89e",
   "metadata": {},
   "outputs": [],
   "source": [
    "marketing['date_served'] = pd.to_datetime(marketing['date_served'] , format=\"mixed\")\n",
    "marketing.drop(['Unnamed: 0'], inplace=True, axis=1)"
   ]
  },
  {
   "cell_type": "code",
   "execution_count": null,
   "id": "b35fdf38-6c0b-40f6-a138-bc8d2004f181",
   "metadata": {},
   "outputs": [],
   "source": [
    "# Check data types after reading\n",
    "print(marketing.dtypes)"
   ]
  },
  {
   "cell_type": "markdown",
   "id": "d9ef1a42-fc18-453d-88fe-d0862af2ab0c",
   "metadata": {},
   "source": [
    "<h1>Inspecting the data</h1>"
   ]
  },
  {
   "cell_type": "code",
   "execution_count": null,
   "id": "9ea62c83-ed53-4be9-a363-1b45da559b86",
   "metadata": {},
   "outputs": [],
   "source": [
    "print(marketing.info())\n",
    "print('------------------------------------------------------------------------------')\n",
    "\n",
    "print(marketing.head().iloc[:, 0:5])\n",
    "print('------------------------------------------------------------------------------')\n",
    "\n",
    "print(marketing.head().iloc[:, 6:10])\n",
    "print('------------------------------------------------------------------------------')\n",
    "\n",
    "print(marketing.head().iloc[:, 11:12])"
   ]
  },
  {
   "cell_type": "markdown",
   "id": "927c8bc5-7ce6-4f41-9351-c3943ee22852",
   "metadata": {},
   "source": [
    "<h3>Missing values?</h3>"
   ]
  },
  {
   "cell_type": "code",
   "execution_count": null,
   "id": "832d95aa-16d6-4f64-aa9e-63d05a3900d9",
   "metadata": {},
   "outputs": [],
   "source": [
    "marketing.isna().sum().sort_values(ascending=False)"
   ]
  },
  {
   "cell_type": "markdown",
   "id": "931005c2-011d-45fd-81c6-904c34117b15",
   "metadata": {},
   "source": [
    "<h2>Automatization with user-defined functions</h2>\n",
    "<h2>Conversion rate</h2>\n",
    "\n",
    "<p>\n",
    "= Number of goal achievments / total number of target group\n",
    "</p>\n",
    "\n",
    "<p>\n",
    "Number of target group: visitors of website, customers ...<br>\n",
    "Number of goal achievments: clicks on button, subscription, purchases...\n",
    "</p>"
   ]
  },
  {
   "cell_type": "code",
   "execution_count": null,
   "id": "87113214-8c0e-4385-b358-19f4239b43c4",
   "metadata": {},
   "outputs": [],
   "source": [
    "def conversion_rate(dataframe, column_names):\n",
    "    # Total number of converted users\n",
    "    column_conv = \\\n",
    "    dataframe[dataframe['converted']==True].groupby(column_names)['user_id'].nunique()\n",
    "\n",
    "    # Total number users\n",
    "    column_total = dataframe.groupby(column_names)['user_id'].nunique()\n",
    "    \n",
    "    # Conversion rate \n",
    "    conversion_rate = column_conv/column_total\n",
    "    \n",
    "    # Fill missing values with 0\n",
    "    conversion_rate = conversion_rate.fillna(0)\n",
    "    return conversion_rate"
   ]
  },
  {
   "cell_type": "code",
   "execution_count": null,
   "id": "549327d3-5861-4147-bf8b-270197e25aee",
   "metadata": {},
   "outputs": [],
   "source": [
    "# Calculate conversion rate by age_group\n",
    "age_group_conv = conversion_rate(marketing, ['date_served', 'age_group'])\n",
    "print(age_group_conv.head())\n",
    "\n",
    "print('------------------------------------------------------------------------------')\n",
    "# Unstack and create a DataFrame\n",
    "age_group_df = pd.DataFrame(age_group_conv.unstack())\n",
    "print(age_group_df.iloc[:2, :4])\n"
   ]
  },
  {
   "cell_type": "code",
   "execution_count": null,
   "id": "252c6f59-ac0a-476e-893c-4d3ca5fd7b37",
   "metadata": {},
   "outputs": [],
   "source": [
    "\n",
    "# Visualize conversion by age_group\n",
    "#age_group_df.plot(figsize=(6,4))\n",
    "\n",
    "plt.title('Conversion rate by age group\\n', size = 16)\n",
    "plt.ylabel('Conversion rate', size = 14)\n",
    "plt.xlabel('Age group', size = 14)\n",
    "\n",
    "\n",
    "plt.grid(linestyle=\"solid\", color=\"lightgreen\")\n",
    "\n",
    "plt.xticks(ticks=age_group_df.index.tolist(), \n",
    "           labels=age_group_df.index.date,\n",
    "           rotation=90)\n",
    "plt.legend(loc='upper right', fontsize=8, title=\"Age groups\")\n",
    "\n",
    "# Set the background color\n",
    "fig = plt.gcf()  # get the current figure\n",
    "fig.patch.set_facecolor('palegreen')  # set the background color to light gray\n",
    "fig.patch.set_edgecolor('black')  # set the border color to black\n",
    "fig.patch.set_linewidth(2)  # set the border width to 2 points\n",
    "\n",
    "plt.savefig('images/ConversionRateAge')\n",
    "\n",
    "plt.show()"
   ]
  },
  {
   "cell_type": "markdown",
   "id": "144259c6-a0bb-4ae5-a20f-24c72e68f34f",
   "metadata": {},
   "source": [
    "<h3>\n",
    "Plotting function\n",
    "</h3>"
   ]
  },
  {
   "cell_type": "code",
   "execution_count": null,
   "id": "237cb39c-5e74-4968-bae2-0798a7feea73",
   "metadata": {},
   "outputs": [],
   "source": [
    "def plotting_conv(dataframe):\n",
    "    \n",
    "    for column in dataframe:\n",
    "        plt.figure(figsize=(5,2))\n",
    "        # Plot column by dataframe's index\n",
    "        plt.plot(dataframe.index, dataframe[column])\n",
    "        plt.title('Daily ' + str(column) + ' conversion rate\\n', \n",
    "                  size = 9)\n",
    "        plt.ylabel('Conversion rate', size = 9)\n",
    "        plt.xlabel('Date', size = 9)\n",
    "        \n",
    "        plt.xticks(rotation=90, fontsize=8)\n",
    "        \n",
    "        plt.grid(linestyle='dashed')\n",
    "        # Show plot\n",
    "        plt.show()\n",
    "        plt.clf()"
   ]
  },
  {
   "cell_type": "markdown",
   "id": "2524a4ca-dda3-4916-8d4c-8ef153a25b0f",
   "metadata": {},
   "source": [
    "<p>Plotting</p>"
   ]
  },
  {
   "cell_type": "code",
   "execution_count": null,
   "id": "68255f4f-2a66-4b7a-8bbf-50af3c14cf54",
   "metadata": {},
   "outputs": [],
   "source": [
    "plotting_conv(age_group_df)"
   ]
  },
  {
   "cell_type": "code",
   "execution_count": null,
   "id": "388cb085-f157-4e41-93f3-48a8e9e0c652",
   "metadata": {},
   "outputs": [],
   "source": []
  },
  {
   "cell_type": "markdown",
   "id": "44a0308c-81c4-489d-8e28-86d52552840a",
   "metadata": {},
   "source": [
    "def plotting_conv(dataframe):\n",
    "    num_plots = len(dataframe.columns)\n",
    "    fig, axs = plt.subplots(nrows=num_plots, ncols=1, figsize=(8, 3*num_plots))\n",
    "    \n",
    "    for i, column in enumerate(dataframe.columns):\n",
    "        axs[i].plot(dataframe.index, dataframe[column])\n",
    "        axs[i].set_title('Daily ' + str(column) + ' conversion rate\\n', size = 16)\n",
    "        axs[i].set_ylabel('Conversion rate', size = 14)\n",
    "        axs[i].set_xlabel('Date', size = 14)\n",
    "    \n",
    "    plt.tight_layout()\n",
    "    plt.show()"
   ]
  },
  {
   "cell_type": "code",
   "execution_count": null,
   "id": "88a0c42c-cf3c-44c8-a0c1-2bb0e39aa5b6",
   "metadata": {},
   "outputs": [],
   "source": []
  },
  {
   "cell_type": "code",
   "execution_count": null,
   "id": "98afd662-f424-436c-b00c-b0240f2e6a76",
   "metadata": {},
   "outputs": [],
   "source": [
    "# Calculate conversion rate by date served and age group\n",
    "age_group_conv = conversion_rate(marketing, ['date_served','age_group'])\n",
    "print(age_group_conv)\n",
    "print(type(print(age_group_conv)))\n",
    "\n",
    "\n",
    "# Unstack age_group_conv and create a DataFrame\n",
    "age_group_df = pd.DataFrame(age_group_conv.unstack(level=1))\n",
    "\n",
    "# Plot the results\n",
    "plotting_conv(age_group_df)"
   ]
  },
  {
   "cell_type": "code",
   "execution_count": null,
   "id": "54e06bb2-f2ea-4a4f-bd00-1e1deb863b07",
   "metadata": {},
   "outputs": [],
   "source": []
  }
 ],
 "metadata": {
  "kernelspec": {
   "display_name": "Python [conda env:data_analytics]",
   "language": "python",
   "name": "conda-env-data_analytics-py"
  },
  "language_info": {
   "codemirror_mode": {
    "name": "ipython",
    "version": 3
   },
   "file_extension": ".py",
   "mimetype": "text/x-python",
   "name": "python",
   "nbconvert_exporter": "python",
   "pygments_lexer": "ipython3",
   "version": "3.10.13"
  }
 },
 "nbformat": 4,
 "nbformat_minor": 5
}
